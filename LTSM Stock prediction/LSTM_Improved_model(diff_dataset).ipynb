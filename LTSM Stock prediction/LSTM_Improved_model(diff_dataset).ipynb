{
 "cells": [
  {
   "cell_type": "markdown",
   "id": "da905b34",
   "metadata": {
    "colab_type": "text",
    "id": "view-in-github"
   },
   "source": [
    "<a href=\"https://colab.research.google.com/github/034adarsh/Stock-Price-Prediction-Using-LSTM/blob/main/LSTM_Improved_model(diff_dataset).ipynb\" target=\"_parent\"><img src=\"https://colab.research.google.com/assets/colab-badge.svg\" alt=\"Open In Colab\"/></a>"
   ]
  },
  {
   "cell_type": "code",
   "execution_count": null,
   "id": "554b871c-f3d7-401d-ab36-aae93f760099",
   "metadata": {},
   "outputs": [],
   "source": [
    "This is my LTSM stock prediction"
   ]
  },
  {
   "cell_type": "code",
   "execution_count": 3,
   "id": "f0891225-3d87-46e6-b1fe-d21f07dec268",
   "metadata": {},
   "outputs": [
    {
     "name": "stdout",
     "output_type": "stream",
     "text": [
      "Collecting yfinance\n",
      "  Downloading yfinance-0.2.50-py2.py3-none-any.whl.metadata (5.5 kB)\n",
      "Requirement already satisfied: pandas>=1.3.0 in c:\\users\\user\\appdata\\roaming\\python\\python311\\site-packages (from yfinance) (2.1.2)\n",
      "Requirement already satisfied: numpy>=1.16.5 in c:\\users\\user\\appdata\\roaming\\python\\python311\\site-packages (from yfinance) (1.26.1)\n",
      "Requirement already satisfied: requests>=2.31 in g:\\users\\user\\anaconda3\\lib\\site-packages (from yfinance) (2.31.0)\n",
      "Collecting multitasking>=0.0.7 (from yfinance)\n",
      "  Downloading multitasking-0.0.11-py3-none-any.whl.metadata (5.5 kB)\n",
      "Requirement already satisfied: lxml>=4.9.1 in g:\\users\\user\\anaconda3\\lib\\site-packages (from yfinance) (4.9.3)\n",
      "Requirement already satisfied: platformdirs>=2.0.0 in g:\\users\\user\\anaconda3\\lib\\site-packages (from yfinance) (3.10.0)\n",
      "Requirement already satisfied: pytz>=2022.5 in c:\\users\\user\\appdata\\roaming\\python\\python311\\site-packages (from yfinance) (2023.3.post1)\n",
      "Collecting frozendict>=2.3.4 (from yfinance)\n",
      "  Downloading frozendict-2.4.6-py311-none-any.whl.metadata (23 kB)\n",
      "Collecting peewee>=3.16.2 (from yfinance)\n",
      "  Downloading peewee-3.17.8.tar.gz (948 kB)\n",
      "     ---------------------------------------- 0.0/948.2 kB ? eta -:--:--\n",
      "     -- ------------------------------------ 61.4/948.2 kB 1.6 MB/s eta 0:00:01\n",
      "     ----------------------- -------------- 593.9/948.2 kB 7.4 MB/s eta 0:00:01\n",
      "     -------------------------------------  942.1/948.2 kB 8.5 MB/s eta 0:00:01\n",
      "     -------------------------------------- 948.2/948.2 kB 6.7 MB/s eta 0:00:00\n",
      "  Installing build dependencies: started\n",
      "  Installing build dependencies: finished with status 'done'\n",
      "  Getting requirements to build wheel: started\n",
      "  Getting requirements to build wheel: finished with status 'done'\n",
      "  Preparing metadata (pyproject.toml): started\n",
      "  Preparing metadata (pyproject.toml): finished with status 'done'\n",
      "Requirement already satisfied: beautifulsoup4>=4.11.1 in g:\\users\\user\\anaconda3\\lib\\site-packages (from yfinance) (4.12.2)\n",
      "Collecting html5lib>=1.1 (from yfinance)\n",
      "  Downloading html5lib-1.1-py2.py3-none-any.whl.metadata (16 kB)\n",
      "Requirement already satisfied: soupsieve>1.2 in g:\\users\\user\\anaconda3\\lib\\site-packages (from beautifulsoup4>=4.11.1->yfinance) (2.5)\n",
      "Requirement already satisfied: six>=1.9 in c:\\users\\user\\appdata\\roaming\\python\\python311\\site-packages (from html5lib>=1.1->yfinance) (1.16.0)\n",
      "Requirement already satisfied: webencodings in g:\\users\\user\\anaconda3\\lib\\site-packages (from html5lib>=1.1->yfinance) (0.5.1)\n",
      "Requirement already satisfied: python-dateutil>=2.8.2 in c:\\users\\user\\appdata\\roaming\\python\\python311\\site-packages (from pandas>=1.3.0->yfinance) (2.8.2)\n",
      "Requirement already satisfied: tzdata>=2022.1 in c:\\users\\user\\appdata\\roaming\\python\\python311\\site-packages (from pandas>=1.3.0->yfinance) (2023.3)\n",
      "Requirement already satisfied: charset-normalizer<4,>=2 in g:\\users\\user\\anaconda3\\lib\\site-packages (from requests>=2.31->yfinance) (2.0.4)\n",
      "Requirement already satisfied: idna<4,>=2.5 in g:\\users\\user\\anaconda3\\lib\\site-packages (from requests>=2.31->yfinance) (3.4)\n",
      "Requirement already satisfied: urllib3<3,>=1.21.1 in g:\\users\\user\\anaconda3\\lib\\site-packages (from requests>=2.31->yfinance) (2.0.7)\n",
      "Requirement already satisfied: certifi>=2017.4.17 in g:\\users\\user\\anaconda3\\lib\\site-packages (from requests>=2.31->yfinance) (2024.2.2)\n",
      "Downloading yfinance-0.2.50-py2.py3-none-any.whl (102 kB)\n",
      "   ---------------------------------------- 0.0/102.2 kB ? eta -:--:--\n",
      "   ---------------------------------------- 102.2/102.2 kB 3.0 MB/s eta 0:00:00\n",
      "Downloading frozendict-2.4.6-py311-none-any.whl (16 kB)\n",
      "Downloading html5lib-1.1-py2.py3-none-any.whl (112 kB)\n",
      "   ---------------------------------------- 0.0/112.2 kB ? eta -:--:--\n",
      "   ---------------------------------------- 112.2/112.2 kB 2.2 MB/s eta 0:00:00\n",
      "Downloading multitasking-0.0.11-py3-none-any.whl (8.5 kB)\n",
      "Building wheels for collected packages: peewee\n",
      "  Building wheel for peewee (pyproject.toml): started\n",
      "  Building wheel for peewee (pyproject.toml): finished with status 'done'\n",
      "  Created wheel for peewee: filename=peewee-3.17.8-py3-none-any.whl size=139012 sha256=a5b5800f133928506c035d16a44cf5c8bd79f50a66b31ab1810a9bff77d9ab3a\n",
      "  Stored in directory: c:\\users\\user\\appdata\\local\\pip\\cache\\wheels\\ff\\6c\\15\\506e25bc390de450a7fa53c155cd9b0fbd13ad3e84a9abc183\n",
      "Successfully built peewee\n",
      "Installing collected packages: peewee, multitasking, html5lib, frozendict, yfinance\n",
      "Successfully installed frozendict-2.4.6 html5lib-1.1 multitasking-0.0.11 peewee-3.17.8 yfinance-0.2.50\n"
     ]
    }
   ],
   "source": [
    "!pip3 install yfinance\n"
   ]
  },
  {
   "cell_type": "markdown",
   "id": "yrU0iWdalVGx",
   "metadata": {
    "id": "yrU0iWdalVGx"
   },
   "source": [
    "# Import all the required libraries\n",
    "\n",
    "---\n",
    "\n"
   ]
  },
  {
   "cell_type": "code",
   "execution_count": 4,
   "id": "4189cf86",
   "metadata": {
    "id": "4189cf86"
   },
   "outputs": [
    {
     "name": "stdout",
     "output_type": "stream",
     "text": [
      "hello!\n"
     ]
    }
   ],
   "source": [
    "import pandas as pd\n",
    "import datetime as dt\n",
    "from datetime import date\n",
    "import matplotlib.pyplot as plt\n",
    "import yfinance as yf\n",
    "import numpy as np\n",
    "import tensorflow as tf\n",
    "print(\"hello!\")"
   ]
  },
  {
   "cell_type": "markdown",
   "id": "Nij98iZElfyQ",
   "metadata": {
    "id": "Nij98iZElfyQ"
   },
   "source": [
    "# Define start day to fetch the dataset from the yahoo finance library\n",
    "\n",
    "---\n",
    "\n"
   ]
  },
  {
   "cell_type": "code",
   "execution_count": 7,
   "id": "d20a4c49",
   "metadata": {
    "id": "d20a4c49"
   },
   "outputs": [
    {
     "name": "stdout",
     "output_type": "stream",
     "text": [
      "hello!\n"
     ]
    }
   ],
   "source": [
    "\n",
    "\n",
    "START = \"2010-01-01\"\n",
    "TODAY = \"2016-01-01\"\n",
    "\n",
    "# Define a function to load the dataset\n",
    "\n",
    "def load_data(ticker):\n",
    "    data = yf.download(ticker, START, TODAY)\n",
    "    data.reset_index(inplace=True)\n",
    "    return data\n",
    "\n",
    "print(\"hello!\")"
   ]
  },
  {
   "cell_type": "code",
   "execution_count": 8,
   "id": "c5f71e4e",
   "metadata": {
    "colab": {
     "base_uri": "https://localhost:8080/",
     "height": 224
    },
    "id": "c5f71e4e",
    "outputId": "047bd0e5-7e20-4d32-8d6f-0a0c1c5a2983"
   },
   "outputs": [
    {
     "name": "stderr",
     "output_type": "stream",
     "text": [
      "[*********************100%***********************]  1 of 1 completed"
     ]
    },
    {
     "name": "stdout",
     "output_type": "stream",
     "text": [
      "hello!\n"
     ]
    },
    {
     "name": "stderr",
     "output_type": "stream",
     "text": [
      "\n"
     ]
    }
   ],
   "source": [
    "data = load_data('TCS.NS')\n",
    "df=data\n",
    "df.head()\n",
    "print(\"hello!\")"
   ]
  },
  {
   "cell_type": "code",
   "execution_count": 9,
   "id": "c7ec39e4",
   "metadata": {
    "colab": {
     "base_uri": "https://localhost:8080/",
     "height": 206
    },
    "id": "c7ec39e4",
    "outputId": "96670f67-4c6a-40fc-b065-a7820a2f9f46"
   },
   "outputs": [
    {
     "name": "stderr",
     "output_type": "stream",
     "text": [
      "C:\\Users\\user\\AppData\\Local\\Temp\\ipykernel_9624\\1616842492.py:1: PerformanceWarning: dropping on a non-lexsorted multi-index without a level parameter may impact performance.\n",
      "  df = df.drop(['Date', 'Adj Close'], axis = 1)\n"
     ]
    },
    {
     "data": {
      "text/html": [
       "<div>\n",
       "<style scoped>\n",
       "    .dataframe tbody tr th:only-of-type {\n",
       "        vertical-align: middle;\n",
       "    }\n",
       "\n",
       "    .dataframe tbody tr th {\n",
       "        vertical-align: top;\n",
       "    }\n",
       "\n",
       "    .dataframe thead tr th {\n",
       "        text-align: left;\n",
       "    }\n",
       "</style>\n",
       "<table border=\"1\" class=\"dataframe\">\n",
       "  <thead>\n",
       "    <tr>\n",
       "      <th>Price</th>\n",
       "      <th>Close</th>\n",
       "      <th>High</th>\n",
       "      <th>Low</th>\n",
       "      <th>Open</th>\n",
       "      <th>Volume</th>\n",
       "    </tr>\n",
       "    <tr>\n",
       "      <th>Ticker</th>\n",
       "      <th>TCS.NS</th>\n",
       "      <th>TCS.NS</th>\n",
       "      <th>TCS.NS</th>\n",
       "      <th>TCS.NS</th>\n",
       "      <th>TCS.NS</th>\n",
       "    </tr>\n",
       "  </thead>\n",
       "  <tbody>\n",
       "    <tr>\n",
       "      <th>0</th>\n",
       "      <td>375.825012</td>\n",
       "      <td>379.450012</td>\n",
       "      <td>374.524994</td>\n",
       "      <td>377.399994</td>\n",
       "      <td>1963682</td>\n",
       "    </tr>\n",
       "    <tr>\n",
       "      <th>1</th>\n",
       "      <td>375.924988</td>\n",
       "      <td>379.774994</td>\n",
       "      <td>373.274994</td>\n",
       "      <td>377.500000</td>\n",
       "      <td>2014488</td>\n",
       "    </tr>\n",
       "    <tr>\n",
       "      <th>2</th>\n",
       "      <td>367.424988</td>\n",
       "      <td>376.100006</td>\n",
       "      <td>366.500000</td>\n",
       "      <td>375.924988</td>\n",
       "      <td>3349176</td>\n",
       "    </tr>\n",
       "    <tr>\n",
       "      <th>3</th>\n",
       "      <td>357.200012</td>\n",
       "      <td>369.700012</td>\n",
       "      <td>355.500000</td>\n",
       "      <td>367.750000</td>\n",
       "      <td>6474892</td>\n",
       "    </tr>\n",
       "    <tr>\n",
       "      <th>4</th>\n",
       "      <td>349.899994</td>\n",
       "      <td>359.250000</td>\n",
       "      <td>348.250000</td>\n",
       "      <td>358.000000</td>\n",
       "      <td>6048178</td>\n",
       "    </tr>\n",
       "  </tbody>\n",
       "</table>\n",
       "</div>"
      ],
      "text/plain": [
       "Price        Close        High         Low        Open   Volume\n",
       "Ticker      TCS.NS      TCS.NS      TCS.NS      TCS.NS   TCS.NS\n",
       "0       375.825012  379.450012  374.524994  377.399994  1963682\n",
       "1       375.924988  379.774994  373.274994  377.500000  2014488\n",
       "2       367.424988  376.100006  366.500000  375.924988  3349176\n",
       "3       357.200012  369.700012  355.500000  367.750000  6474892\n",
       "4       349.899994  359.250000  348.250000  358.000000  6048178"
      ]
     },
     "execution_count": 9,
     "metadata": {},
     "output_type": "execute_result"
    }
   ],
   "source": [
    "df = df.drop(['Date', 'Adj Close'], axis = 1)\n",
    "df.head()"
   ]
  },
  {
   "cell_type": "markdown",
   "id": "M-ojrPeXOxPq",
   "metadata": {
    "id": "M-ojrPeXOxPq"
   },
   "source": [
    "Visualizing Closing Price"
   ]
  },
  {
   "cell_type": "code",
   "execution_count": 10,
   "id": "DCvdjb9gOhar",
   "metadata": {
    "colab": {
     "base_uri": "https://localhost:8080/",
     "height": 564
    },
    "id": "DCvdjb9gOhar",
    "outputId": "313d9fe1-80f9-43a6-a204-1051f9acd959"
   },
   "outputs": [
    {
     "data": {
      "image/png": "[encoded data removed]",
      "text/plain": [
       "<Figure size 1200x600 with 1 Axes>"
      ]
     },
     "metadata": {},
     "output_type": "display_data"
    }
   ],
   "source": [
    "plt.figure(figsize=(12, 6))\n",
    "plt.plot(df['Close'])\n",
    "plt.title(\"TCS India Stock Price\")\n",
    "plt.xlabel(\"Date\")\n",
    "plt.ylabel(\"Price (INR)\")\n",
    "plt.grid(True)\n",
    "plt.show()"
   ]
  },
  {
   "cell_type": "code",
   "execution_count": 11,
   "id": "73888072",
   "metadata": {
    "colab": {
     "base_uri": "https://localhost:8080/",
     "height": 424
    },
    "id": "73888072",
    "outputId": "c3ff127c-8c35-4bb6-a18d-a7880266b57f"
   },
   "outputs": [
    {
     "data": {
      "text/html": [
       "<div>\n",
       "<style scoped>\n",
       "    .dataframe tbody tr th:only-of-type {\n",
       "        vertical-align: middle;\n",
       "    }\n",
       "\n",
       "    .dataframe tbody tr th {\n",
       "        vertical-align: top;\n",
       "    }\n",
       "\n",
       "    .dataframe thead tr th {\n",
       "        text-align: left;\n",
       "    }\n",
       "</style>\n",
       "<table border=\"1\" class=\"dataframe\">\n",
       "  <thead>\n",
       "    <tr>\n",
       "      <th>Price</th>\n",
       "      <th>Close</th>\n",
       "      <th>High</th>\n",
       "      <th>Low</th>\n",
       "      <th>Open</th>\n",
       "      <th>Volume</th>\n",
       "    </tr>\n",
       "    <tr>\n",
       "      <th>Ticker</th>\n",
       "      <th>TCS.NS</th>\n",
       "      <th>TCS.NS</th>\n",
       "      <th>TCS.NS</th>\n",
       "      <th>TCS.NS</th>\n",
       "      <th>TCS.NS</th>\n",
       "    </tr>\n",
       "  </thead>\n",
       "  <tbody>\n",
       "    <tr>\n",
       "      <th>0</th>\n",
       "      <td>375.825012</td>\n",
       "      <td>379.450012</td>\n",
       "      <td>374.524994</td>\n",
       "      <td>377.399994</td>\n",
       "      <td>1963682</td>\n",
       "    </tr>\n",
       "    <tr>\n",
       "      <th>1</th>\n",
       "      <td>375.924988</td>\n",
       "      <td>379.774994</td>\n",
       "      <td>373.274994</td>\n",
       "      <td>377.500000</td>\n",
       "      <td>2014488</td>\n",
       "    </tr>\n",
       "    <tr>\n",
       "      <th>2</th>\n",
       "      <td>367.424988</td>\n",
       "      <td>376.100006</td>\n",
       "      <td>366.500000</td>\n",
       "      <td>375.924988</td>\n",
       "      <td>3349176</td>\n",
       "    </tr>\n",
       "    <tr>\n",
       "      <th>3</th>\n",
       "      <td>357.200012</td>\n",
       "      <td>369.700012</td>\n",
       "      <td>355.500000</td>\n",
       "      <td>367.750000</td>\n",
       "      <td>6474892</td>\n",
       "    </tr>\n",
       "    <tr>\n",
       "      <th>4</th>\n",
       "      <td>349.899994</td>\n",
       "      <td>359.250000</td>\n",
       "      <td>348.250000</td>\n",
       "      <td>358.000000</td>\n",
       "      <td>6048178</td>\n",
       "    </tr>\n",
       "    <tr>\n",
       "      <th>...</th>\n",
       "      <td>...</td>\n",
       "      <td>...</td>\n",
       "      <td>...</td>\n",
       "      <td>...</td>\n",
       "      <td>...</td>\n",
       "    </tr>\n",
       "    <tr>\n",
       "      <th>1474</th>\n",
       "      <td>1217.125000</td>\n",
       "      <td>1219.099976</td>\n",
       "      <td>1202.000000</td>\n",
       "      <td>1210.500000</td>\n",
       "      <td>843160</td>\n",
       "    </tr>\n",
       "    <tr>\n",
       "      <th>1475</th>\n",
       "      <td>1231.349976</td>\n",
       "      <td>1233.199951</td>\n",
       "      <td>1210.099976</td>\n",
       "      <td>1214.000000</td>\n",
       "      <td>3704198</td>\n",
       "    </tr>\n",
       "    <tr>\n",
       "      <th>1476</th>\n",
       "      <td>1227.900024</td>\n",
       "      <td>1232.650024</td>\n",
       "      <td>1222.875000</td>\n",
       "      <td>1229.175049</td>\n",
       "      <td>1708524</td>\n",
       "    </tr>\n",
       "    <tr>\n",
       "      <th>1477</th>\n",
       "      <td>1209.150024</td>\n",
       "      <td>1229.500000</td>\n",
       "      <td>1206.150024</td>\n",
       "      <td>1226.525024</td>\n",
       "      <td>1605762</td>\n",
       "    </tr>\n",
       "    <tr>\n",
       "      <th>1478</th>\n",
       "      <td>1218.425049</td>\n",
       "      <td>1224.250000</td>\n",
       "      <td>1203.750000</td>\n",
       "      <td>1207.875000</td>\n",
       "      <td>1240318</td>\n",
       "    </tr>\n",
       "  </tbody>\n",
       "</table>\n",
       "<p>1479 rows × 5 columns</p>\n",
       "</div>"
      ],
      "text/plain": [
       "Price         Close         High          Low         Open   Volume\n",
       "Ticker       TCS.NS       TCS.NS       TCS.NS       TCS.NS   TCS.NS\n",
       "0        375.825012   379.450012   374.524994   377.399994  1963682\n",
       "1        375.924988   379.774994   373.274994   377.500000  2014488\n",
       "2        367.424988   376.100006   366.500000   375.924988  3349176\n",
       "3        357.200012   369.700012   355.500000   367.750000  6474892\n",
       "4        349.899994   359.250000   348.250000   358.000000  6048178\n",
       "...             ...          ...          ...          ...      ...\n",
       "1474    1217.125000  1219.099976  1202.000000  1210.500000   843160\n",
       "1475    1231.349976  1233.199951  1210.099976  1214.000000  3704198\n",
       "1476    1227.900024  1232.650024  1222.875000  1229.175049  1708524\n",
       "1477    1209.150024  1229.500000  1206.150024  1226.525024  1605762\n",
       "1478    1218.425049  1224.250000  1203.750000  1207.875000  1240318\n",
       "\n",
       "[1479 rows x 5 columns]"
      ]
     },
     "execution_count": 11,
     "metadata": {},
     "output_type": "execute_result"
    }
   ],
   "source": [
    "df"
   ]
  },
  {
   "cell_type": "markdown",
   "id": "UMkTEOfBlzte",
   "metadata": {
    "id": "UMkTEOfBlzte"
   },
   "source": [
    "# Plotting moving averages of 100 day\n",
    "\n",
    "---\n",
    "\n"
   ]
  },
  {
   "cell_type": "code",
   "execution_count": 12,
   "id": "114d2e0c",
   "metadata": {
    "colab": {
     "base_uri": "https://localhost:8080/"
    },
    "id": "114d2e0c",
    "outputId": "aad49169-4922-4f48-bd62-84ec26fa3768"
   },
   "outputs": [
    {
     "data": {
      "text/html": [
       "<div>\n",
       "<style scoped>\n",
       "    .dataframe tbody tr th:only-of-type {\n",
       "        vertical-align: middle;\n",
       "    }\n",
       "\n",
       "    .dataframe tbody tr th {\n",
       "        vertical-align: top;\n",
       "    }\n",
       "\n",
       "    .dataframe thead th {\n",
       "        text-align: right;\n",
       "    }\n",
       "</style>\n",
       "<table border=\"1\" class=\"dataframe\">\n",
       "  <thead>\n",
       "    <tr style=\"text-align: right;\">\n",
       "      <th>Ticker</th>\n",
       "      <th>TCS.NS</th>\n",
       "    </tr>\n",
       "  </thead>\n",
       "  <tbody>\n",
       "    <tr>\n",
       "      <th>0</th>\n",
       "      <td>NaN</td>\n",
       "    </tr>\n",
       "    <tr>\n",
       "      <th>1</th>\n",
       "      <td>NaN</td>\n",
       "    </tr>\n",
       "    <tr>\n",
       "      <th>2</th>\n",
       "      <td>NaN</td>\n",
       "    </tr>\n",
       "    <tr>\n",
       "      <th>3</th>\n",
       "      <td>NaN</td>\n",
       "    </tr>\n",
       "    <tr>\n",
       "      <th>4</th>\n",
       "      <td>NaN</td>\n",
       "    </tr>\n",
       "    <tr>\n",
       "      <th>...</th>\n",
       "      <td>...</td>\n",
       "    </tr>\n",
       "    <tr>\n",
       "      <th>1474</th>\n",
       "      <td>1256.46100</td>\n",
       "    </tr>\n",
       "    <tr>\n",
       "      <th>1475</th>\n",
       "      <td>1256.24075</td>\n",
       "    </tr>\n",
       "    <tr>\n",
       "      <th>1476</th>\n",
       "      <td>1256.11650</td>\n",
       "    </tr>\n",
       "    <tr>\n",
       "      <th>1477</th>\n",
       "      <td>1255.65425</td>\n",
       "    </tr>\n",
       "    <tr>\n",
       "      <th>1478</th>\n",
       "      <td>1255.29050</td>\n",
       "    </tr>\n",
       "  </tbody>\n",
       "</table>\n",
       "<p>1479 rows × 1 columns</p>\n",
       "</div>"
      ],
      "text/plain": [
       "Ticker      TCS.NS\n",
       "0              NaN\n",
       "1              NaN\n",
       "2              NaN\n",
       "3              NaN\n",
       "4              NaN\n",
       "...            ...\n",
       "1474    1256.46100\n",
       "1475    1256.24075\n",
       "1476    1256.11650\n",
       "1477    1255.65425\n",
       "1478    1255.29050\n",
       "\n",
       "[1479 rows x 1 columns]"
      ]
     },
     "execution_count": 12,
     "metadata": {},
     "output_type": "execute_result"
    }
   ],
   "source": [
    "ma100 = df.Close.rolling(100).mean()\n",
    "ma100"
   ]
  },
  {
   "cell_type": "code",
   "execution_count": 13,
   "id": "e2f6b740",
   "metadata": {
    "colab": {
     "base_uri": "https://localhost:8080/",
     "height": 563
    },
    "id": "e2f6b740",
    "outputId": "136dd8a6-23d1-4fef-d676-8db5fed9e4b5"
   },
   "outputs": [
    {
     "data": {
      "text/plain": [
       "Text(0.5, 1.0, 'Graph Of Moving Averages Of 100 Days')"
      ]
     },
     "execution_count": 13,
     "metadata": {},
     "output_type": "execute_result"
    },
    {
     "data": {
      "image/png": "[encoded data removed]",
      "text/plain": [
       "<Figure size 1200x600 with 1 Axes>"
      ]
     },
     "metadata": {},
     "output_type": "display_data"
    }
   ],
   "source": [
    "plt.figure(figsize = (12,6))\n",
    "plt.plot(df.Close)\n",
    "plt.plot(ma100, 'r')\n",
    "plt.grid(True)\n",
    "plt.title('Graph Of Moving Averages Of 100 Days')"
   ]
  },
  {
   "cell_type": "markdown",
   "id": "LQKvGsXwmN65",
   "metadata": {
    "id": "LQKvGsXwmN65"
   },
   "source": [
    "# Defining 200 days moving averages and plotting comparision graph with 100 days moving averages\n",
    "\n",
    "---\n",
    "\n"
   ]
  },
  {
   "cell_type": "code",
   "execution_count": 14,
   "id": "46c89811",
   "metadata": {
    "colab": {
     "base_uri": "https://localhost:8080/"
    },
    "id": "46c89811",
    "outputId": "a7a974f0-937e-4265-b375-929053f46272"
   },
   "outputs": [
    {
     "data": {
      "text/html": [
       "<div>\n",
       "<style scoped>\n",
       "    .dataframe tbody tr th:only-of-type {\n",
       "        vertical-align: middle;\n",
       "    }\n",
       "\n",
       "    .dataframe tbody tr th {\n",
       "        vertical-align: top;\n",
       "    }\n",
       "\n",
       "    .dataframe thead th {\n",
       "        text-align: right;\n",
       "    }\n",
       "</style>\n",
       "<table border=\"1\" class=\"dataframe\">\n",
       "  <thead>\n",
       "    <tr style=\"text-align: right;\">\n",
       "      <th>Ticker</th>\n",
       "      <th>TCS.NS</th>\n",
       "    </tr>\n",
       "  </thead>\n",
       "  <tbody>\n",
       "    <tr>\n",
       "      <th>0</th>\n",
       "      <td>NaN</td>\n",
       "    </tr>\n",
       "    <tr>\n",
       "      <th>1</th>\n",
       "      <td>NaN</td>\n",
       "    </tr>\n",
       "    <tr>\n",
       "      <th>2</th>\n",
       "      <td>NaN</td>\n",
       "    </tr>\n",
       "    <tr>\n",
       "      <th>3</th>\n",
       "      <td>NaN</td>\n",
       "    </tr>\n",
       "    <tr>\n",
       "      <th>4</th>\n",
       "      <td>NaN</td>\n",
       "    </tr>\n",
       "    <tr>\n",
       "      <th>...</th>\n",
       "      <td>...</td>\n",
       "    </tr>\n",
       "    <tr>\n",
       "      <th>1474</th>\n",
       "      <td>1267.978251</td>\n",
       "    </tr>\n",
       "    <tr>\n",
       "      <th>1475</th>\n",
       "      <td>1267.270001</td>\n",
       "    </tr>\n",
       "    <tr>\n",
       "      <th>1476</th>\n",
       "      <td>1266.668376</td>\n",
       "    </tr>\n",
       "    <tr>\n",
       "      <th>1477</th>\n",
       "      <td>1266.097126</td>\n",
       "    </tr>\n",
       "    <tr>\n",
       "      <th>1478</th>\n",
       "      <td>1265.582501</td>\n",
       "    </tr>\n",
       "  </tbody>\n",
       "</table>\n",
       "<p>1479 rows × 1 columns</p>\n",
       "</div>"
      ],
      "text/plain": [
       "Ticker       TCS.NS\n",
       "0               NaN\n",
       "1               NaN\n",
       "2               NaN\n",
       "3               NaN\n",
       "4               NaN\n",
       "...             ...\n",
       "1474    1267.978251\n",
       "1475    1267.270001\n",
       "1476    1266.668376\n",
       "1477    1266.097126\n",
       "1478    1265.582501\n",
       "\n",
       "[1479 rows x 1 columns]"
      ]
     },
     "execution_count": 14,
     "metadata": {},
     "output_type": "execute_result"
    }
   ],
   "source": [
    "ma200 = df.Close.rolling(200).mean()\n",
    "ma200"
   ]
  },
  {
   "cell_type": "code",
   "execution_count": 15,
   "id": "d7c0ce2e",
   "metadata": {
    "colab": {
     "base_uri": "https://localhost:8080/",
     "height": 563
    },
    "id": "d7c0ce2e",
    "outputId": "853bd4ca-af7d-4c81-9d9d-92ec6eddbef2"
   },
   "outputs": [
    {
     "data": {
      "text/plain": [
       "Text(0.5, 1.0, 'Comparision Of 100 Days And 200 Days Moving Averages')"
      ]
     },
     "execution_count": 15,
     "metadata": {},
     "output_type": "execute_result"
    },
    {
     "data": {
      "image/png": "[encoded data removed]",
      "text/plain": [
       "<Figure size 1200x600 with 1 Axes>"
      ]
     },
     "metadata": {},
     "output_type": "display_data"
    }
   ],
   "source": [
    "plt.figure(figsize = (12,6))\n",
    "plt.plot(df.Close)\n",
    "plt.plot(ma100, 'r')\n",
    "plt.plot(ma200, 'g')\n",
    "plt.grid(True)\n",
    "plt.title('Comparision Of 100 Days And 200 Days Moving Averages')"
   ]
  },
  {
   "cell_type": "code",
   "execution_count": 16,
   "id": "45a099a7",
   "metadata": {
    "colab": {
     "base_uri": "https://localhost:8080/"
    },
    "id": "45a099a7",
    "outputId": "c3685930-176a-4c2d-b391-69866c4637c5"
   },
   "outputs": [
    {
     "data": {
      "text/plain": [
       "(1479, 5)"
      ]
     },
     "execution_count": 16,
     "metadata": {},
     "output_type": "execute_result"
    }
   ],
   "source": [
    "df.shape"
   ]
  },
  {
   "cell_type": "markdown",
   "id": "bCw5fsrlmfpm",
   "metadata": {
    "id": "bCw5fsrlmfpm"
   },
   "source": [
    "# Spliting the dataset into training (70%) and testing (30%) set"
   ]
  },
  {
   "cell_type": "code",
   "execution_count": 17,
   "id": "9610c5fc",
   "metadata": {
    "colab": {
     "base_uri": "https://localhost:8080/"
    },
    "id": "9610c5fc",
    "outputId": "56ee8fcd-ce88-4705-f511-b030a00712c0"
   },
   "outputs": [
    {
     "name": "stdout",
     "output_type": "stream",
     "text": [
      "(1035, 7)\n",
      "(444, 7)\n"
     ]
    }
   ],
   "source": [
    "# Splitting data into training and testing\n",
    "\n",
    "train = pd.DataFrame(data[0:int(len(data)*0.70)])\n",
    "test = pd.DataFrame(data[int(len(data)*0.70): int(len(data))])\n",
    "\n",
    "print(train.shape)\n",
    "print(test.shape)"
   ]
  },
  {
   "cell_type": "code",
   "execution_count": 18,
   "id": "2cb33dc0",
   "metadata": {
    "colab": {
     "base_uri": "https://localhost:8080/",
     "height": 206
    },
    "id": "2cb33dc0",
    "outputId": "bccf505c-0272-48e4-8b35-138abd6723dd"
   },
   "outputs": [
    {
     "data": {
      "text/html": [
       "<div>\n",
       "<style scoped>\n",
       "    .dataframe tbody tr th:only-of-type {\n",
       "        vertical-align: middle;\n",
       "    }\n",
       "\n",
       "    .dataframe tbody tr th {\n",
       "        vertical-align: top;\n",
       "    }\n",
       "\n",
       "    .dataframe thead tr th {\n",
       "        text-align: left;\n",
       "    }\n",
       "</style>\n",
       "<table border=\"1\" class=\"dataframe\">\n",
       "  <thead>\n",
       "    <tr>\n",
       "      <th>Price</th>\n",
       "      <th>Date</th>\n",
       "      <th>Adj Close</th>\n",
       "      <th>Close</th>\n",
       "      <th>High</th>\n",
       "      <th>Low</th>\n",
       "      <th>Open</th>\n",
       "      <th>Volume</th>\n",
       "    </tr>\n",
       "    <tr>\n",
       "      <th>Ticker</th>\n",
       "      <th></th>\n",
       "      <th>TCS.NS</th>\n",
       "      <th>TCS.NS</th>\n",
       "      <th>TCS.NS</th>\n",
       "      <th>TCS.NS</th>\n",
       "      <th>TCS.NS</th>\n",
       "      <th>TCS.NS</th>\n",
       "    </tr>\n",
       "  </thead>\n",
       "  <tbody>\n",
       "    <tr>\n",
       "      <th>0</th>\n",
       "      <td>2010-01-04</td>\n",
       "      <td>295.029724</td>\n",
       "      <td>375.825012</td>\n",
       "      <td>379.450012</td>\n",
       "      <td>374.524994</td>\n",
       "      <td>377.399994</td>\n",
       "      <td>1963682</td>\n",
       "    </tr>\n",
       "    <tr>\n",
       "      <th>1</th>\n",
       "      <td>2010-01-05</td>\n",
       "      <td>295.108124</td>\n",
       "      <td>375.924988</td>\n",
       "      <td>379.774994</td>\n",
       "      <td>373.274994</td>\n",
       "      <td>377.500000</td>\n",
       "      <td>2014488</td>\n",
       "    </tr>\n",
       "    <tr>\n",
       "      <th>2</th>\n",
       "      <td>2010-01-06</td>\n",
       "      <td>288.435394</td>\n",
       "      <td>367.424988</td>\n",
       "      <td>376.100006</td>\n",
       "      <td>366.500000</td>\n",
       "      <td>375.924988</td>\n",
       "      <td>3349176</td>\n",
       "    </tr>\n",
       "    <tr>\n",
       "      <th>3</th>\n",
       "      <td>2010-01-07</td>\n",
       "      <td>280.408600</td>\n",
       "      <td>357.200012</td>\n",
       "      <td>369.700012</td>\n",
       "      <td>355.500000</td>\n",
       "      <td>367.750000</td>\n",
       "      <td>6474892</td>\n",
       "    </tr>\n",
       "    <tr>\n",
       "      <th>4</th>\n",
       "      <td>2010-01-08</td>\n",
       "      <td>274.678101</td>\n",
       "      <td>349.899994</td>\n",
       "      <td>359.250000</td>\n",
       "      <td>348.250000</td>\n",
       "      <td>358.000000</td>\n",
       "      <td>6048178</td>\n",
       "    </tr>\n",
       "  </tbody>\n",
       "</table>\n",
       "</div>"
      ],
      "text/plain": [
       "Price        Date   Adj Close       Close        High         Low        Open  \\\n",
       "Ticker                 TCS.NS      TCS.NS      TCS.NS      TCS.NS      TCS.NS   \n",
       "0      2010-01-04  295.029724  375.825012  379.450012  374.524994  377.399994   \n",
       "1      2010-01-05  295.108124  375.924988  379.774994  373.274994  377.500000   \n",
       "2      2010-01-06  288.435394  367.424988  376.100006  366.500000  375.924988   \n",
       "3      2010-01-07  280.408600  357.200012  369.700012  355.500000  367.750000   \n",
       "4      2010-01-08  274.678101  349.899994  359.250000  348.250000  358.000000   \n",
       "\n",
       "Price    Volume  \n",
       "Ticker   TCS.NS  \n",
       "0       1963682  \n",
       "1       2014488  \n",
       "2       3349176  \n",
       "3       6474892  \n",
       "4       6048178  "
      ]
     },
     "execution_count": 18,
     "metadata": {},
     "output_type": "execute_result"
    }
   ],
   "source": [
    "train.head()"
   ]
  },
  {
   "cell_type": "code",
   "execution_count": 19,
   "id": "91f5ef8b",
   "metadata": {
    "colab": {
     "base_uri": "https://localhost:8080/",
     "height": 206
    },
    "id": "91f5ef8b",
    "outputId": "8e92506b-b4ea-4eec-c643-0f6e2d34bb90"
   },
   "outputs": [
    {
     "data": {
      "text/html": [
       "<div>\n",
       "<style scoped>\n",
       "    .dataframe tbody tr th:only-of-type {\n",
       "        vertical-align: middle;\n",
       "    }\n",
       "\n",
       "    .dataframe tbody tr th {\n",
       "        vertical-align: top;\n",
       "    }\n",
       "\n",
       "    .dataframe thead tr th {\n",
       "        text-align: left;\n",
       "    }\n",
       "</style>\n",
       "<table border=\"1\" class=\"dataframe\">\n",
       "  <thead>\n",
       "    <tr>\n",
       "      <th>Price</th>\n",
       "      <th>Date</th>\n",
       "      <th>Adj Close</th>\n",
       "      <th>Close</th>\n",
       "      <th>High</th>\n",
       "      <th>Low</th>\n",
       "      <th>Open</th>\n",
       "      <th>Volume</th>\n",
       "    </tr>\n",
       "    <tr>\n",
       "      <th>Ticker</th>\n",
       "      <th></th>\n",
       "      <th>TCS.NS</th>\n",
       "      <th>TCS.NS</th>\n",
       "      <th>TCS.NS</th>\n",
       "      <th>TCS.NS</th>\n",
       "      <th>TCS.NS</th>\n",
       "      <th>TCS.NS</th>\n",
       "    </tr>\n",
       "  </thead>\n",
       "  <tbody>\n",
       "    <tr>\n",
       "      <th>1035</th>\n",
       "      <td>2014-03-07</td>\n",
       "      <td>926.056396</td>\n",
       "      <td>1114.250000</td>\n",
       "      <td>1125.025024</td>\n",
       "      <td>1076.400024</td>\n",
       "      <td>1122.750000</td>\n",
       "      <td>4698472</td>\n",
       "    </tr>\n",
       "    <tr>\n",
       "      <th>1036</th>\n",
       "      <td>2014-03-10</td>\n",
       "      <td>890.380737</td>\n",
       "      <td>1071.324951</td>\n",
       "      <td>1114.250000</td>\n",
       "      <td>1067.500000</td>\n",
       "      <td>1114.050049</td>\n",
       "      <td>3829768</td>\n",
       "    </tr>\n",
       "    <tr>\n",
       "      <th>1037</th>\n",
       "      <td>2014-03-11</td>\n",
       "      <td>894.120972</td>\n",
       "      <td>1075.824951</td>\n",
       "      <td>1088.824951</td>\n",
       "      <td>1061.000000</td>\n",
       "      <td>1077.500000</td>\n",
       "      <td>2550254</td>\n",
       "    </tr>\n",
       "    <tr>\n",
       "      <th>1038</th>\n",
       "      <td>2014-03-12</td>\n",
       "      <td>905.673157</td>\n",
       "      <td>1089.724976</td>\n",
       "      <td>1094.875000</td>\n",
       "      <td>1076.500000</td>\n",
       "      <td>1076.500000</td>\n",
       "      <td>1669788</td>\n",
       "    </tr>\n",
       "    <tr>\n",
       "      <th>1039</th>\n",
       "      <td>2014-03-13</td>\n",
       "      <td>893.248474</td>\n",
       "      <td>1074.775024</td>\n",
       "      <td>1101.000000</td>\n",
       "      <td>1068.425049</td>\n",
       "      <td>1074.025024</td>\n",
       "      <td>2019884</td>\n",
       "    </tr>\n",
       "  </tbody>\n",
       "</table>\n",
       "</div>"
      ],
      "text/plain": [
       "Price        Date   Adj Close        Close         High          Low  \\\n",
       "Ticker                 TCS.NS       TCS.NS       TCS.NS       TCS.NS   \n",
       "1035   2014-03-07  926.056396  1114.250000  1125.025024  1076.400024   \n",
       "1036   2014-03-10  890.380737  1071.324951  1114.250000  1067.500000   \n",
       "1037   2014-03-11  894.120972  1075.824951  1088.824951  1061.000000   \n",
       "1038   2014-03-12  905.673157  1089.724976  1094.875000  1076.500000   \n",
       "1039   2014-03-13  893.248474  1074.775024  1101.000000  1068.425049   \n",
       "\n",
       "Price          Open   Volume  \n",
       "Ticker       TCS.NS   TCS.NS  \n",
       "1035    1122.750000  4698472  \n",
       "1036    1114.050049  3829768  \n",
       "1037    1077.500000  2550254  \n",
       "1038    1076.500000  1669788  \n",
       "1039    1074.025024  2019884  "
      ]
     },
     "execution_count": 19,
     "metadata": {},
     "output_type": "execute_result"
    }
   ],
   "source": [
    "test.head()"
   ]
  },
  {
   "cell_type": "markdown",
   "id": "-a818gdwm_WV",
   "metadata": {
    "id": "-a818gdwm_WV"
   },
   "source": [
    "# Using MinMax scaler for normalization of the dataset\n",
    "\n",
    "---\n",
    "\n"
   ]
  },
  {
   "cell_type": "code",
   "execution_count": 20,
   "id": "01f04df7",
   "metadata": {
    "id": "01f04df7"
   },
   "outputs": [],
   "source": [
    "from sklearn.preprocessing import MinMaxScaler\n",
    "scaler = MinMaxScaler(feature_range=(0,1))"
   ]
  },
  {
   "cell_type": "code",
   "execution_count": 21,
   "id": "53oSB51dB6Tw",
   "metadata": {
    "id": "53oSB51dB6Tw"
   },
   "outputs": [],
   "source": [
    "train_close = train.iloc[:, 4:5].values\n",
    "test_close = test.iloc[:, 4:5].values"
   ]
  },
  {
   "cell_type": "code",
   "execution_count": 22,
   "id": "d97e7ff8",
   "metadata": {
    "colab": {
     "base_uri": "https://localhost:8080/"
    },
    "id": "d97e7ff8",
    "outputId": "eae5e982-ee9f-4be5-af17-b78fc6e6dd45"
   },
   "outputs": [
    {
     "data": {
      "text/plain": [
       "array([[0.03886096],\n",
       "       [0.0373382 ],\n",
       "       [0.02908482],\n",
       "       ...,\n",
       "       [0.93726207],\n",
       "       [0.94856102],\n",
       "       [0.94222622]])"
      ]
     },
     "execution_count": 22,
     "metadata": {},
     "output_type": "execute_result"
    }
   ],
   "source": [
    "data_training_array = scaler.fit_transform(train_close)\n",
    "data_training_array"
   ]
  },
  {
   "cell_type": "code",
   "execution_count": 23,
   "id": "10227978",
   "metadata": {
    "id": "10227978"
   },
   "outputs": [],
   "source": [
    "x_train = []\n",
    "y_train = [] \n",
    "\n",
    "for i in range(100, data_training_array.shape[0]):\n",
    "    x_train.append(data_training_array[i-100: i])\n",
    "    y_train.append(data_training_array[i, 0])\n",
    "\n",
    "x_train, y_train = np.array(x_train), np.array(y_train) "
   ]
  },
  {
   "cell_type": "code",
   "execution_count": 25,
   "id": "0ea6446e",
   "metadata": {
    "colab": {
     "base_uri": "https://localhost:8080/"
    },
    "id": "0ea6446e",
    "outputId": "16c4a903-7a88-43c7-e30b-89149f057b75"
   },
   "outputs": [
    {
     "data": {
      "text/plain": [
       "(935, 100, 1)"
      ]
     },
     "execution_count": 25,
     "metadata": {},
     "output_type": "execute_result"
    }
   ],
   "source": [
    "x_train.shape"
   ]
  },
  {
   "cell_type": "markdown",
   "id": "dsMIlQ8DnVOJ",
   "metadata": {
    "id": "dsMIlQ8DnVOJ"
   },
   "source": [
    "# ML Model (LSTM)\n",
    "\n",
    "---\n",
    "\n"
   ]
  },
  {
   "cell_type": "code",
   "execution_count": 26,
   "id": "e60ed317",
   "metadata": {
    "id": "e60ed317"
   },
   "outputs": [],
   "source": [
    "from tensorflow.keras.layers import Dense, Dropout, LSTM\n",
    "from tensorflow.keras.models import Sequential"
   ]
  },
  {
   "cell_type": "code",
   "execution_count": 27,
   "id": "17082610",
   "metadata": {
    "colab": {
     "base_uri": "https://localhost:8080/"
    },
    "id": "17082610",
    "outputId": "e3a8a228-487d-40be-a6ce-7e999581b9d1"
   },
   "outputs": [
    {
     "name": "stderr",
     "output_type": "stream",
     "text": [
      "g:\\Users\\user\\anaconda3\\Lib\\site-packages\\keras\\src\\layers\\rnn\\rnn.py:204: UserWarning: Do not pass an `input_shape`/`input_dim` argument to a layer. When using Sequential models, prefer using an `Input(shape)` object as the first layer in the model instead.\n",
      "  super().__init__(**kwargs)\n"
     ]
    }
   ],
   "source": [
    "model = Sequential()\n",
    "model.add(LSTM(units = 50, activation = 'relu', return_sequences=True\n",
    "              ,input_shape = (x_train.shape[1], 1)))\n",
    "model.add(Dropout(0.2))\n",
    "\n",
    "\n",
    "model.add(LSTM(units = 60, activation = 'relu', return_sequences=True))\n",
    "model.add(Dropout(0.3))\n",
    "\n",
    "\n",
    "model.add(LSTM(units = 80, activation = 'relu', return_sequences=True))\n",
    "model.add(Dropout(0.4))\n",
    "\n",
    "\n",
    "model.add(LSTM(units = 120, activation = 'relu'))\n",
    "model.add(Dropout(0.5))\n",
    "\n",
    "model.add(Dense(units = 1))"
   ]
  },
  {
   "cell_type": "code",
   "execution_count": 28,
   "id": "5f5a1db3",
   "metadata": {
    "colab": {
     "base_uri": "https://localhost:8080/"
    },
    "id": "5f5a1db3",
    "outputId": "23244ace-c6af-46ed-e068-77c1cd563dd0"
   },
   "outputs": [
    {
     "data": {
      "text/html": [
       "<pre style=\"white-space:pre;overflow-x:auto;line-height:normal;font-family:Menlo,'DejaVu Sans Mono',consolas,'Courier New',monospace\"><span style=\"font-weight: bold\">Model: \"sequential\"</span>\n",
       "</pre>\n"
      ],
      "text/plain": [
       "\u001b[1mModel: \"sequential\"\u001b[0m\n"
      ]
     },
     "metadata": {},
     "output_type": "display_data"
    },
    {
     "data": {
      "text/html": [
       "<pre style=\"white-space:pre;overflow-x:auto;line-height:normal;font-family:Menlo,'DejaVu Sans Mono',consolas,'Courier New',monospace\">┏━━━━━━━━━━━━━━━━━━━━━━━━━━━━━━━━━━━━━━┳━━━━━━━━━━━━━━━━━━━━━━━━━━━━━┳━━━━━━━━━━━━━━━━━┓\n",
       "┃<span style=\"font-weight: bold\"> Layer (type)                         </span>┃<span style=\"font-weight: bold\"> Output Shape                </span>┃<span style=\"font-weight: bold\">         Param # </span>┃\n",
       "┡━━━━━━━━━━━━━━━━━━━━━━━━━━━━━━━━━━━━━━╇━━━━━━━━━━━━━━━━━━━━━━━━━━━━━╇━━━━━━━━━━━━━━━━━┩\n",
       "│ lstm (<span style=\"color: #0087ff; text-decoration-color: #0087ff\">LSTM</span>)                          │ (<span style=\"color: #00d7ff; text-decoration-color: #00d7ff\">None</span>, <span style=\"color: #00af00; text-decoration-color: #00af00\">100</span>, <span style=\"color: #00af00; text-decoration-color: #00af00\">50</span>)             │          <span style=\"color: #00af00; text-decoration-color: #00af00\">10,400</span> │\n",
       "├──────────────────────────────────────┼─────────────────────────────┼─────────────────┤\n",
       "│ dropout (<span style=\"color: #0087ff; text-decoration-color: #0087ff\">Dropout</span>)                    │ (<span style=\"color: #00d7ff; text-decoration-color: #00d7ff\">None</span>, <span style=\"color: #00af00; text-decoration-color: #00af00\">100</span>, <span style=\"color: #00af00; text-decoration-color: #00af00\">50</span>)             │               <span style=\"color: #00af00; text-decoration-color: #00af00\">0</span> │\n",
       "├──────────────────────────────────────┼─────────────────────────────┼─────────────────┤\n",
       "│ lstm_1 (<span style=\"color: #0087ff; text-decoration-color: #0087ff\">LSTM</span>)                        │ (<span style=\"color: #00d7ff; text-decoration-color: #00d7ff\">None</span>, <span style=\"color: #00af00; text-decoration-color: #00af00\">100</span>, <span style=\"color: #00af00; text-decoration-color: #00af00\">60</span>)             │          <span style=\"color: #00af00; text-decoration-color: #00af00\">26,640</span> │\n",
       "├──────────────────────────────────────┼─────────────────────────────┼─────────────────┤\n",
       "│ dropout_1 (<span style=\"color: #0087ff; text-decoration-color: #0087ff\">Dropout</span>)                  │ (<span style=\"color: #00d7ff; text-decoration-color: #00d7ff\">None</span>, <span style=\"color: #00af00; text-decoration-color: #00af00\">100</span>, <span style=\"color: #00af00; text-decoration-color: #00af00\">60</span>)             │               <span style=\"color: #00af00; text-decoration-color: #00af00\">0</span> │\n",
       "├──────────────────────────────────────┼─────────────────────────────┼─────────────────┤\n",
       "│ lstm_2 (<span style=\"color: #0087ff; text-decoration-color: #0087ff\">LSTM</span>)                        │ (<span style=\"color: #00d7ff; text-decoration-color: #00d7ff\">None</span>, <span style=\"color: #00af00; text-decoration-color: #00af00\">100</span>, <span style=\"color: #00af00; text-decoration-color: #00af00\">80</span>)             │          <span style=\"color: #00af00; text-decoration-color: #00af00\">45,120</span> │\n",
       "├──────────────────────────────────────┼─────────────────────────────┼─────────────────┤\n",
       "│ dropout_2 (<span style=\"color: #0087ff; text-decoration-color: #0087ff\">Dropout</span>)                  │ (<span style=\"color: #00d7ff; text-decoration-color: #00d7ff\">None</span>, <span style=\"color: #00af00; text-decoration-color: #00af00\">100</span>, <span style=\"color: #00af00; text-decoration-color: #00af00\">80</span>)             │               <span style=\"color: #00af00; text-decoration-color: #00af00\">0</span> │\n",
       "├──────────────────────────────────────┼─────────────────────────────┼─────────────────┤\n",
       "│ lstm_3 (<span style=\"color: #0087ff; text-decoration-color: #0087ff\">LSTM</span>)                        │ (<span style=\"color: #00d7ff; text-decoration-color: #00d7ff\">None</span>, <span style=\"color: #00af00; text-decoration-color: #00af00\">120</span>)                 │          <span style=\"color: #00af00; text-decoration-color: #00af00\">96,480</span> │\n",
       "├──────────────────────────────────────┼─────────────────────────────┼─────────────────┤\n",
       "│ dropout_3 (<span style=\"color: #0087ff; text-decoration-color: #0087ff\">Dropout</span>)                  │ (<span style=\"color: #00d7ff; text-decoration-color: #00d7ff\">None</span>, <span style=\"color: #00af00; text-decoration-color: #00af00\">120</span>)                 │               <span style=\"color: #00af00; text-decoration-color: #00af00\">0</span> │\n",
       "├──────────────────────────────────────┼─────────────────────────────┼─────────────────┤\n",
       "│ dense (<span style=\"color: #0087ff; text-decoration-color: #0087ff\">Dense</span>)                        │ (<span style=\"color: #00d7ff; text-decoration-color: #00d7ff\">None</span>, <span style=\"color: #00af00; text-decoration-color: #00af00\">1</span>)                   │             <span style=\"color: #00af00; text-decoration-color: #00af00\">121</span> │\n",
       "└──────────────────────────────────────┴─────────────────────────────┴─────────────────┘\n",
       "</pre>\n"
      ],
      "text/plain": [
       "┏━━━━━━━━━━━━━━━━━━━━━━━━━━━━━━━━━━━━━━┳━━━━━━━━━━━━━━━━━━━━━━━━━━━━━┳━━━━━━━━━━━━━━━━━┓\n",
       "┃\u001b[1m \u001b[0m\u001b[1mLayer (type)                        \u001b[0m\u001b[1m \u001b[0m┃\u001b[1m \u001b[0m\u001b[1mOutput Shape               \u001b[0m\u001b[1m \u001b[0m┃\u001b[1m \u001b[0m\u001b[1m        Param #\u001b[0m\u001b[1m \u001b[0m┃\n",
       "┡━━━━━━━━━━━━━━━━━━━━━━━━━━━━━━━━━━━━━━╇━━━━━━━━━━━━━━━━━━━━━━━━━━━━━╇━━━━━━━━━━━━━━━━━┩\n",
       "│ lstm (\u001b[38;5;33mLSTM\u001b[0m)                          │ (\u001b[38;5;45mNone\u001b[0m, \u001b[38;5;34m100\u001b[0m, \u001b[38;5;34m50\u001b[0m)             │          \u001b[38;5;34m10,400\u001b[0m │\n",
       "├──────────────────────────────────────┼─────────────────────────────┼─────────────────┤\n",
       "│ dropout (\u001b[38;5;33mDropout\u001b[0m)                    │ (\u001b[38;5;45mNone\u001b[0m, \u001b[38;5;34m100\u001b[0m, \u001b[38;5;34m50\u001b[0m)             │               \u001b[38;5;34m0\u001b[0m │\n",
       "├──────────────────────────────────────┼─────────────────────────────┼─────────────────┤\n",
       "│ lstm_1 (\u001b[38;5;33mLSTM\u001b[0m)                        │ (\u001b[38;5;45mNone\u001b[0m, \u001b[38;5;34m100\u001b[0m, \u001b[38;5;34m60\u001b[0m)             │          \u001b[38;5;34m26,640\u001b[0m │\n",
       "├──────────────────────────────────────┼─────────────────────────────┼─────────────────┤\n",
       "│ dropout_1 (\u001b[38;5;33mDropout\u001b[0m)                  │ (\u001b[38;5;45mNone\u001b[0m, \u001b[38;5;34m100\u001b[0m, \u001b[38;5;34m60\u001b[0m)             │               \u001b[38;5;34m0\u001b[0m │\n",
       "├──────────────────────────────────────┼─────────────────────────────┼─────────────────┤\n",
       "│ lstm_2 (\u001b[38;5;33mLSTM\u001b[0m)                        │ (\u001b[38;5;45mNone\u001b[0m, \u001b[38;5;34m100\u001b[0m, \u001b[38;5;34m80\u001b[0m)             │          \u001b[38;5;34m45,120\u001b[0m │\n",
       "├──────────────────────────────────────┼─────────────────────────────┼─────────────────┤\n",
       "│ dropout_2 (\u001b[38;5;33mDropout\u001b[0m)                  │ (\u001b[38;5;45mNone\u001b[0m, \u001b[38;5;34m100\u001b[0m, \u001b[38;5;34m80\u001b[0m)             │               \u001b[38;5;34m0\u001b[0m │\n",
       "├──────────────────────────────────────┼─────────────────────────────┼─────────────────┤\n",
       "│ lstm_3 (\u001b[38;5;33mLSTM\u001b[0m)                        │ (\u001b[38;5;45mNone\u001b[0m, \u001b[38;5;34m120\u001b[0m)                 │          \u001b[38;5;34m96,480\u001b[0m │\n",
       "├──────────────────────────────────────┼─────────────────────────────┼─────────────────┤\n",
       "│ dropout_3 (\u001b[38;5;33mDropout\u001b[0m)                  │ (\u001b[38;5;45mNone\u001b[0m, \u001b[38;5;34m120\u001b[0m)                 │               \u001b[38;5;34m0\u001b[0m │\n",
       "├──────────────────────────────────────┼─────────────────────────────┼─────────────────┤\n",
       "│ dense (\u001b[38;5;33mDense\u001b[0m)                        │ (\u001b[38;5;45mNone\u001b[0m, \u001b[38;5;34m1\u001b[0m)                   │             \u001b[38;5;34m121\u001b[0m │\n",
       "└──────────────────────────────────────┴─────────────────────────────┴─────────────────┘\n"
      ]
     },
     "metadata": {},
     "output_type": "display_data"
    },
    {
     "data": {
      "text/html": [
       "<pre style=\"white-space:pre;overflow-x:auto;line-height:normal;font-family:Menlo,'DejaVu Sans Mono',consolas,'Courier New',monospace\"><span style=\"font-weight: bold\"> Total params: </span><span style=\"color: #00af00; text-decoration-color: #00af00\">178,761</span> (698.29 KB)\n",
       "</pre>\n"
      ],
      "text/plain": [
       "\u001b[1m Total params: \u001b[0m\u001b[38;5;34m178,761\u001b[0m (698.29 KB)\n"
      ]
     },
     "metadata": {},
     "output_type": "display_data"
    },
    {
     "data": {
      "text/html": [
       "<pre style=\"white-space:pre;overflow-x:auto;line-height:normal;font-family:Menlo,'DejaVu Sans Mono',consolas,'Courier New',monospace\"><span style=\"font-weight: bold\"> Trainable params: </span><span style=\"color: #00af00; text-decoration-color: #00af00\">178,761</span> (698.29 KB)\n",
       "</pre>\n"
      ],
      "text/plain": [
       "\u001b[1m Trainable params: \u001b[0m\u001b[38;5;34m178,761\u001b[0m (698.29 KB)\n"
      ]
     },
     "metadata": {},
     "output_type": "display_data"
    },
    {
     "data": {
      "text/html": [
       "<pre style=\"white-space:pre;overflow-x:auto;line-height:normal;font-family:Menlo,'DejaVu Sans Mono',consolas,'Courier New',monospace\"><span style=\"font-weight: bold\"> Non-trainable params: </span><span style=\"color: #00af00; text-decoration-color: #00af00\">0</span> (0.00 B)\n",
       "</pre>\n"
      ],
      "text/plain": [
       "\u001b[1m Non-trainable params: \u001b[0m\u001b[38;5;34m0\u001b[0m (0.00 B)\n"
      ]
     },
     "metadata": {},
     "output_type": "display_data"
    }
   ],
   "source": [
    "model.summary()"
   ]
  },
  {
   "cell_type": "markdown",
   "id": "KgEnUfCnn_1r",
   "metadata": {
    "id": "KgEnUfCnn_1r"
   },
   "source": [
    "# Training the model\n",
    "\n",
    "---\n",
    "\n"
   ]
  },
  {
   "cell_type": "code",
   "execution_count": 29,
   "id": "1d0c9b64",
   "metadata": {
    "colab": {
     "base_uri": "https://localhost:8080/"
    },
    "id": "1d0c9b64",
    "outputId": "8014670b-4fcf-4fe9-d60a-786b45c8b88c"
   },
   "outputs": [
    {
     "name": "stdout",
     "output_type": "stream",
     "text": [
      "Epoch 1/100\n",
      "\u001b[1m30/30\u001b[0m \u001b[32m━━━━━━━━━━━━━━━━━━━━\u001b[0m\u001b[37m\u001b[0m \u001b[1m21s\u001b[0m 169ms/step - loss: 0.1117 - mean_absolute_error: 0.2645\n",
      "Epoch 2/100\n",
      "\u001b[1m30/30\u001b[0m \u001b[32m━━━━━━━━━━━━━━━━━━━━\u001b[0m\u001b[37m\u001b[0m \u001b[1m5s\u001b[0m 162ms/step - loss: 0.0154 - mean_absolute_error: 0.0888\n",
      "Epoch 3/100\n",
      "\u001b[1m30/30\u001b[0m \u001b[32m━━━━━━━━━━━━━━━━━━━━\u001b[0m\u001b[37m\u001b[0m \u001b[1m5s\u001b[0m 159ms/step - loss: 0.0086 - mean_absolute_error: 0.0680\n",
      "Epoch 4/100\n",
      "\u001b[1m30/30\u001b[0m \u001b[32m━━━━━━━━━━━━━━━━━━━━\u001b[0m\u001b[37m\u001b[0m \u001b[1m5s\u001b[0m 162ms/step - loss: 0.0116 - mean_absolute_error: 0.0803\n",
      "Epoch 5/100\n",
      "\u001b[1m30/30\u001b[0m \u001b[32m━━━━━━━━━━━━━━━━━━━━\u001b[0m\u001b[37m\u001b[0m \u001b[1m5s\u001b[0m 161ms/step - loss: 0.0069 - mean_absolute_error: 0.0598\n",
      "Epoch 6/100\n",
      "\u001b[1m30/30\u001b[0m \u001b[32m━━━━━━━━━━━━━━━━━━━━\u001b[0m\u001b[37m\u001b[0m \u001b[1m5s\u001b[0m 163ms/step - loss: 0.0075 - mean_absolute_error: 0.0624\n",
      "Epoch 7/100\n",
      "\u001b[1m30/30\u001b[0m \u001b[32m━━━━━━━━━━━━━━━━━━━━\u001b[0m\u001b[37m\u001b[0m \u001b[1m5s\u001b[0m 171ms/step - loss: 0.0075 - mean_absolute_error: 0.0616\n",
      "Epoch 8/100\n",
      "\u001b[1m30/30\u001b[0m \u001b[32m━━━━━━━━━━━━━━━━━━━━\u001b[0m\u001b[37m\u001b[0m \u001b[1m5s\u001b[0m 164ms/step - loss: 0.0077 - mean_absolute_error: 0.0609\n",
      "Epoch 9/100\n",
      "\u001b[1m30/30\u001b[0m \u001b[32m━━━━━━━━━━━━━━━━━━━━\u001b[0m\u001b[37m\u001b[0m \u001b[1m5s\u001b[0m 165ms/step - loss: 0.0062 - mean_absolute_error: 0.0565\n",
      "Epoch 10/100\n",
      "\u001b[1m30/30\u001b[0m \u001b[32m━━━━━━━━━━━━━━━━━━━━\u001b[0m\u001b[37m\u001b[0m \u001b[1m5s\u001b[0m 164ms/step - loss: 0.0059 - mean_absolute_error: 0.0562\n",
      "Epoch 11/100\n",
      "\u001b[1m30/30\u001b[0m \u001b[32m━━━━━━━━━━━━━━━━━━━━\u001b[0m\u001b[37m\u001b[0m \u001b[1m5s\u001b[0m 165ms/step - loss: 0.0056 - mean_absolute_error: 0.0544\n",
      "Epoch 12/100\n",
      "\u001b[1m30/30\u001b[0m \u001b[32m━━━━━━━━━━━━━━━━━━━━\u001b[0m\u001b[37m\u001b[0m \u001b[1m5s\u001b[0m 164ms/step - loss: 0.0052 - mean_absolute_error: 0.0503\n",
      "Epoch 13/100\n",
      "\u001b[1m30/30\u001b[0m \u001b[32m━━━━━━━━━━━━━━━━━━━━\u001b[0m\u001b[37m\u001b[0m \u001b[1m5s\u001b[0m 163ms/step - loss: 0.0066 - mean_absolute_error: 0.0588\n",
      "Epoch 14/100\n",
      "\u001b[1m30/30\u001b[0m \u001b[32m━━━━━━━━━━━━━━━━━━━━\u001b[0m\u001b[37m\u001b[0m \u001b[1m5s\u001b[0m 168ms/step - loss: 0.0049 - mean_absolute_error: 0.0508\n",
      "Epoch 15/100\n",
      "\u001b[1m30/30\u001b[0m \u001b[32m━━━━━━━━━━━━━━━━━━━━\u001b[0m\u001b[37m\u001b[0m \u001b[1m5s\u001b[0m 163ms/step - loss: 0.0047 - mean_absolute_error: 0.0488\n",
      "Epoch 16/100\n",
      "\u001b[1m30/30\u001b[0m \u001b[32m━━━━━━━━━━━━━━━━━━━━\u001b[0m\u001b[37m\u001b[0m \u001b[1m5s\u001b[0m 165ms/step - loss: 0.0052 - mean_absolute_error: 0.0511\n",
      "Epoch 17/100\n",
      "\u001b[1m30/30\u001b[0m \u001b[32m━━━━━━━━━━━━━━━━━━━━\u001b[0m\u001b[37m\u001b[0m \u001b[1m5s\u001b[0m 165ms/step - loss: 0.0049 - mean_absolute_error: 0.0482\n",
      "Epoch 18/100\n",
      "\u001b[1m30/30\u001b[0m \u001b[32m━━━━━━━━━━━━━━━━━━━━\u001b[0m\u001b[37m\u001b[0m \u001b[1m5s\u001b[0m 166ms/step - loss: 0.0055 - mean_absolute_error: 0.0520\n",
      "Epoch 19/100\n",
      "\u001b[1m30/30\u001b[0m \u001b[32m━━━━━━━━━━━━━━━━━━━━\u001b[0m\u001b[37m\u001b[0m \u001b[1m5s\u001b[0m 177ms/step - loss: 0.0044 - mean_absolute_error: 0.0469\n",
      "Epoch 20/100\n",
      "\u001b[1m30/30\u001b[0m \u001b[32m━━━━━━━━━━━━━━━━━━━━\u001b[0m\u001b[37m\u001b[0m \u001b[1m5s\u001b[0m 169ms/step - loss: 0.0052 - mean_absolute_error: 0.0528\n",
      "Epoch 21/100\n",
      "\u001b[1m30/30\u001b[0m \u001b[32m━━━━━━━━━━━━━━━━━━━━\u001b[0m\u001b[37m\u001b[0m \u001b[1m5s\u001b[0m 168ms/step - loss: 0.0044 - mean_absolute_error: 0.0467\n",
      "Epoch 22/100\n",
      "\u001b[1m30/30\u001b[0m \u001b[32m━━━━━━━━━━━━━━━━━━━━\u001b[0m\u001b[37m\u001b[0m \u001b[1m5s\u001b[0m 168ms/step - loss: 0.0040 - mean_absolute_error: 0.0464\n",
      "Epoch 23/100\n",
      "\u001b[1m30/30\u001b[0m \u001b[32m━━━━━━━━━━━━━━━━━━━━\u001b[0m\u001b[37m\u001b[0m \u001b[1m5s\u001b[0m 165ms/step - loss: 0.0044 - mean_absolute_error: 0.0473\n",
      "Epoch 24/100\n",
      "\u001b[1m30/30\u001b[0m \u001b[32m━━━━━━━━━━━━━━━━━━━━\u001b[0m\u001b[37m\u001b[0m \u001b[1m5s\u001b[0m 165ms/step - loss: 0.0050 - mean_absolute_error: 0.0491\n",
      "Epoch 25/100\n",
      "\u001b[1m30/30\u001b[0m \u001b[32m━━━━━━━━━━━━━━━━━━━━\u001b[0m\u001b[37m\u001b[0m \u001b[1m5s\u001b[0m 167ms/step - loss: 0.0039 - mean_absolute_error: 0.0464\n",
      "Epoch 26/100\n",
      "\u001b[1m30/30\u001b[0m \u001b[32m━━━━━━━━━━━━━━━━━━━━\u001b[0m\u001b[37m\u001b[0m \u001b[1m5s\u001b[0m 165ms/step - loss: 0.0048 - mean_absolute_error: 0.0484\n",
      "Epoch 27/100\n",
      "\u001b[1m30/30\u001b[0m \u001b[32m━━━━━━━━━━━━━━━━━━━━\u001b[0m\u001b[37m\u001b[0m \u001b[1m5s\u001b[0m 163ms/step - loss: 0.0052 - mean_absolute_error: 0.0525\n",
      "Epoch 28/100\n",
      "\u001b[1m30/30\u001b[0m \u001b[32m━━━━━━━━━━━━━━━━━━━━\u001b[0m\u001b[37m\u001b[0m \u001b[1m5s\u001b[0m 163ms/step - loss: 0.0039 - mean_absolute_error: 0.0444\n",
      "Epoch 29/100\n",
      "\u001b[1m30/30\u001b[0m \u001b[32m━━━━━━━━━━━━━━━━━━━━\u001b[0m\u001b[37m\u001b[0m \u001b[1m5s\u001b[0m 164ms/step - loss: 0.0047 - mean_absolute_error: 0.0483\n",
      "Epoch 30/100\n",
      "\u001b[1m30/30\u001b[0m \u001b[32m━━━━━━━━━━━━━━━━━━━━\u001b[0m\u001b[37m\u001b[0m \u001b[1m5s\u001b[0m 163ms/step - loss: 0.0044 - mean_absolute_error: 0.0460\n",
      "Epoch 31/100\n",
      "\u001b[1m30/30\u001b[0m \u001b[32m━━━━━━━━━━━━━━━━━━━━\u001b[0m\u001b[37m\u001b[0m \u001b[1m5s\u001b[0m 164ms/step - loss: 0.0047 - mean_absolute_error: 0.0484\n",
      "Epoch 32/100\n",
      "\u001b[1m30/30\u001b[0m \u001b[32m━━━━━━━━━━━━━━━━━━━━\u001b[0m\u001b[37m\u001b[0m \u001b[1m5s\u001b[0m 166ms/step - loss: 0.0041 - mean_absolute_error: 0.0451\n",
      "Epoch 33/100\n",
      "\u001b[1m30/30\u001b[0m \u001b[32m━━━━━━━━━━━━━━━━━━━━\u001b[0m\u001b[37m\u001b[0m \u001b[1m5s\u001b[0m 161ms/step - loss: 0.0038 - mean_absolute_error: 0.0453\n",
      "Epoch 34/100\n",
      "\u001b[1m30/30\u001b[0m \u001b[32m━━━━━━━━━━━━━━━━━━━━\u001b[0m\u001b[37m\u001b[0m \u001b[1m5s\u001b[0m 166ms/step - loss: 0.0039 - mean_absolute_error: 0.0441\n",
      "Epoch 35/100\n",
      "\u001b[1m30/30\u001b[0m \u001b[32m━━━━━━━━━━━━━━━━━━━━\u001b[0m\u001b[37m\u001b[0m \u001b[1m5s\u001b[0m 163ms/step - loss: 0.0035 - mean_absolute_error: 0.0425\n",
      "Epoch 36/100\n",
      "\u001b[1m30/30\u001b[0m \u001b[32m━━━━━━━━━━━━━━━━━━━━\u001b[0m\u001b[37m\u001b[0m \u001b[1m5s\u001b[0m 163ms/step - loss: 0.0036 - mean_absolute_error: 0.0432\n",
      "Epoch 37/100\n",
      "\u001b[1m30/30\u001b[0m \u001b[32m━━━━━━━━━━━━━━━━━━━━\u001b[0m\u001b[37m\u001b[0m \u001b[1m5s\u001b[0m 164ms/step - loss: 0.0041 - mean_absolute_error: 0.0447\n",
      "Epoch 38/100\n",
      "\u001b[1m30/30\u001b[0m \u001b[32m━━━━━━━━━━━━━━━━━━━━\u001b[0m\u001b[37m\u001b[0m \u001b[1m5s\u001b[0m 162ms/step - loss: 0.0036 - mean_absolute_error: 0.0430\n",
      "Epoch 39/100\n",
      "\u001b[1m30/30\u001b[0m \u001b[32m━━━━━━━━━━━━━━━━━━━━\u001b[0m\u001b[37m\u001b[0m \u001b[1m5s\u001b[0m 162ms/step - loss: 0.0043 - mean_absolute_error: 0.0460\n",
      "Epoch 40/100\n",
      "\u001b[1m30/30\u001b[0m \u001b[32m━━━━━━━━━━━━━━━━━━━━\u001b[0m\u001b[37m\u001b[0m \u001b[1m5s\u001b[0m 163ms/step - loss: 0.0028 - mean_absolute_error: 0.0379\n",
      "Epoch 41/100\n",
      "\u001b[1m30/30\u001b[0m \u001b[32m━━━━━━━━━━━━━━━━━━━━\u001b[0m\u001b[37m\u001b[0m \u001b[1m5s\u001b[0m 163ms/step - loss: 0.0035 - mean_absolute_error: 0.0418\n",
      "Epoch 42/100\n",
      "\u001b[1m30/30\u001b[0m \u001b[32m━━━━━━━━━━━━━━━━━━━━\u001b[0m\u001b[37m\u001b[0m \u001b[1m5s\u001b[0m 162ms/step - loss: 0.0038 - mean_absolute_error: 0.0424\n",
      "Epoch 43/100\n",
      "\u001b[1m30/30\u001b[0m \u001b[32m━━━━━━━━━━━━━━━━━━━━\u001b[0m\u001b[37m\u001b[0m \u001b[1m5s\u001b[0m 164ms/step - loss: 0.0039 - mean_absolute_error: 0.0440\n",
      "Epoch 44/100\n",
      "\u001b[1m30/30\u001b[0m \u001b[32m━━━━━━━━━━━━━━━━━━━━\u001b[0m\u001b[37m\u001b[0m \u001b[1m5s\u001b[0m 164ms/step - loss: 0.0034 - mean_absolute_error: 0.0418\n",
      "Epoch 45/100\n",
      "\u001b[1m30/30\u001b[0m \u001b[32m━━━━━━━━━━━━━━━━━━━━\u001b[0m\u001b[37m\u001b[0m \u001b[1m5s\u001b[0m 162ms/step - loss: 0.0036 - mean_absolute_error: 0.0428\n",
      "Epoch 46/100\n",
      "\u001b[1m30/30\u001b[0m \u001b[32m━━━━━━━━━━━━━━━━━━━━\u001b[0m\u001b[37m\u001b[0m \u001b[1m5s\u001b[0m 161ms/step - loss: 0.0035 - mean_absolute_error: 0.0430\n",
      "Epoch 47/100\n",
      "\u001b[1m30/30\u001b[0m \u001b[32m━━━━━━━━━━━━━━━━━━━━\u001b[0m\u001b[37m\u001b[0m \u001b[1m5s\u001b[0m 163ms/step - loss: 0.0033 - mean_absolute_error: 0.0409\n",
      "Epoch 48/100\n",
      "\u001b[1m30/30\u001b[0m \u001b[32m━━━━━━━━━━━━━━━━━━━━\u001b[0m\u001b[37m\u001b[0m \u001b[1m5s\u001b[0m 163ms/step - loss: 0.0036 - mean_absolute_error: 0.0410\n",
      "Epoch 49/100\n",
      "\u001b[1m30/30\u001b[0m \u001b[32m━━━━━━━━━━━━━━━━━━━━\u001b[0m\u001b[37m\u001b[0m \u001b[1m5s\u001b[0m 166ms/step - loss: 0.0032 - mean_absolute_error: 0.0389\n",
      "Epoch 50/100\n",
      "\u001b[1m30/30\u001b[0m \u001b[32m━━━━━━━━━━━━━━━━━━━━\u001b[0m\u001b[37m\u001b[0m \u001b[1m5s\u001b[0m 165ms/step - loss: 0.0033 - mean_absolute_error: 0.0405\n",
      "Epoch 51/100\n",
      "\u001b[1m30/30\u001b[0m \u001b[32m━━━━━━━━━━━━━━━━━━━━\u001b[0m\u001b[37m\u001b[0m \u001b[1m5s\u001b[0m 164ms/step - loss: 0.0035 - mean_absolute_error: 0.0404\n",
      "Epoch 52/100\n",
      "\u001b[1m30/30\u001b[0m \u001b[32m━━━━━━━━━━━━━━━━━━━━\u001b[0m\u001b[37m\u001b[0m \u001b[1m5s\u001b[0m 162ms/step - loss: 0.0027 - mean_absolute_error: 0.0381\n",
      "Epoch 53/100\n",
      "\u001b[1m30/30\u001b[0m \u001b[32m━━━━━━━━━━━━━━━━━━━━\u001b[0m\u001b[37m\u001b[0m \u001b[1m5s\u001b[0m 163ms/step - loss: 0.0032 - mean_absolute_error: 0.0395\n",
      "Epoch 54/100\n",
      "\u001b[1m30/30\u001b[0m \u001b[32m━━━━━━━━━━━━━━━━━━━━\u001b[0m\u001b[37m\u001b[0m \u001b[1m5s\u001b[0m 161ms/step - loss: 0.0031 - mean_absolute_error: 0.0382\n",
      "Epoch 55/100\n",
      "\u001b[1m30/30\u001b[0m \u001b[32m━━━━━━━━━━━━━━━━━━━━\u001b[0m\u001b[37m\u001b[0m \u001b[1m5s\u001b[0m 164ms/step - loss: 0.0031 - mean_absolute_error: 0.0388\n",
      "Epoch 56/100\n",
      "\u001b[1m30/30\u001b[0m \u001b[32m━━━━━━━━━━━━━━━━━━━━\u001b[0m\u001b[37m\u001b[0m \u001b[1m5s\u001b[0m 162ms/step - loss: 0.0028 - mean_absolute_error: 0.0371\n",
      "Epoch 57/100\n",
      "\u001b[1m30/30\u001b[0m \u001b[32m━━━━━━━━━━━━━━━━━━━━\u001b[0m\u001b[37m\u001b[0m \u001b[1m5s\u001b[0m 161ms/step - loss: 0.0029 - mean_absolute_error: 0.0368\n",
      "Epoch 58/100\n",
      "\u001b[1m30/30\u001b[0m \u001b[32m━━━━━━━━━━━━━━━━━━━━\u001b[0m\u001b[37m\u001b[0m \u001b[1m5s\u001b[0m 162ms/step - loss: 0.0034 - mean_absolute_error: 0.0400\n",
      "Epoch 59/100\n",
      "\u001b[1m30/30\u001b[0m \u001b[32m━━━━━━━━━━━━━━━━━━━━\u001b[0m\u001b[37m\u001b[0m \u001b[1m5s\u001b[0m 162ms/step - loss: 0.0029 - mean_absolute_error: 0.0387\n",
      "Epoch 60/100\n",
      "\u001b[1m30/30\u001b[0m \u001b[32m━━━━━━━━━━━━━━━━━━━━\u001b[0m\u001b[37m\u001b[0m \u001b[1m5s\u001b[0m 164ms/step - loss: 0.0027 - mean_absolute_error: 0.0372\n",
      "Epoch 61/100\n",
      "\u001b[1m30/30\u001b[0m \u001b[32m━━━━━━━━━━━━━━━━━━━━\u001b[0m\u001b[37m\u001b[0m \u001b[1m5s\u001b[0m 164ms/step - loss: 0.0023 - mean_absolute_error: 0.0353\n",
      "Epoch 62/100\n",
      "\u001b[1m30/30\u001b[0m \u001b[32m━━━━━━━━━━━━━━━━━━━━\u001b[0m\u001b[37m\u001b[0m \u001b[1m5s\u001b[0m 164ms/step - loss: 0.0025 - mean_absolute_error: 0.0362\n",
      "Epoch 63/100\n",
      "\u001b[1m30/30\u001b[0m \u001b[32m━━━━━━━━━━━━━━━━━━━━\u001b[0m\u001b[37m\u001b[0m \u001b[1m5s\u001b[0m 162ms/step - loss: 0.0021 - mean_absolute_error: 0.0332\n",
      "Epoch 64/100\n",
      "\u001b[1m30/30\u001b[0m \u001b[32m━━━━━━━━━━━━━━━━━━━━\u001b[0m\u001b[37m\u001b[0m \u001b[1m5s\u001b[0m 162ms/step - loss: 0.0026 - mean_absolute_error: 0.0349\n",
      "Epoch 65/100\n",
      "\u001b[1m30/30\u001b[0m \u001b[32m━━━━━━━━━━━━━━━━━━━━\u001b[0m\u001b[37m\u001b[0m \u001b[1m5s\u001b[0m 163ms/step - loss: 0.0030 - mean_absolute_error: 0.0381\n",
      "Epoch 66/100\n",
      "\u001b[1m30/30\u001b[0m \u001b[32m━━━━━━━━━━━━━━━━━━━━\u001b[0m\u001b[37m\u001b[0m \u001b[1m5s\u001b[0m 161ms/step - loss: 0.0027 - mean_absolute_error: 0.0366\n",
      "Epoch 67/100\n",
      "\u001b[1m30/30\u001b[0m \u001b[32m━━━━━━━━━━━━━━━━━━━━\u001b[0m\u001b[37m\u001b[0m \u001b[1m5s\u001b[0m 163ms/step - loss: 0.0030 - mean_absolute_error: 0.0384\n",
      "Epoch 68/100\n",
      "\u001b[1m30/30\u001b[0m \u001b[32m━━━━━━━━━━━━━━━━━━━━\u001b[0m\u001b[37m\u001b[0m \u001b[1m5s\u001b[0m 165ms/step - loss: 0.0027 - mean_absolute_error: 0.0372\n",
      "Epoch 69/100\n",
      "\u001b[1m30/30\u001b[0m \u001b[32m━━━━━━━━━━━━━━━━━━━━\u001b[0m\u001b[37m\u001b[0m \u001b[1m5s\u001b[0m 163ms/step - loss: 0.0026 - mean_absolute_error: 0.0353\n",
      "Epoch 70/100\n",
      "\u001b[1m30/30\u001b[0m \u001b[32m━━━━━━━━━━━━━━━━━━━━\u001b[0m\u001b[37m\u001b[0m \u001b[1m5s\u001b[0m 160ms/step - loss: 0.0025 - mean_absolute_error: 0.0355\n",
      "Epoch 71/100\n",
      "\u001b[1m30/30\u001b[0m \u001b[32m━━━━━━━━━━━━━━━━━━━━\u001b[0m\u001b[37m\u001b[0m \u001b[1m5s\u001b[0m 174ms/step - loss: 0.0027 - mean_absolute_error: 0.0361\n",
      "Epoch 72/100\n",
      "\u001b[1m30/30\u001b[0m \u001b[32m━━━━━━━━━━━━━━━━━━━━\u001b[0m\u001b[37m\u001b[0m \u001b[1m5s\u001b[0m 173ms/step - loss: 0.0026 - mean_absolute_error: 0.0360\n",
      "Epoch 73/100\n",
      "\u001b[1m30/30\u001b[0m \u001b[32m━━━━━━━━━━━━━━━━━━━━\u001b[0m\u001b[37m\u001b[0m \u001b[1m5s\u001b[0m 164ms/step - loss: 0.0024 - mean_absolute_error: 0.0350\n",
      "Epoch 74/100\n",
      "\u001b[1m30/30\u001b[0m \u001b[32m━━━━━━━━━━━━━━━━━━━━\u001b[0m\u001b[37m\u001b[0m \u001b[1m5s\u001b[0m 163ms/step - loss: 0.0027 - mean_absolute_error: 0.0360\n",
      "Epoch 75/100\n",
      "\u001b[1m30/30\u001b[0m \u001b[32m━━━━━━━━━━━━━━━━━━━━\u001b[0m\u001b[37m\u001b[0m \u001b[1m5s\u001b[0m 161ms/step - loss: 0.0026 - mean_absolute_error: 0.0364\n",
      "Epoch 76/100\n",
      "\u001b[1m30/30\u001b[0m \u001b[32m━━━━━━━━━━━━━━━━━━━━\u001b[0m\u001b[37m\u001b[0m \u001b[1m5s\u001b[0m 163ms/step - loss: 0.0028 - mean_absolute_error: 0.0364\n",
      "Epoch 77/100\n",
      "\u001b[1m30/30\u001b[0m \u001b[32m━━━━━━━━━━━━━━━━━━━━\u001b[0m\u001b[37m\u001b[0m \u001b[1m5s\u001b[0m 163ms/step - loss: 0.0029 - mean_absolute_error: 0.0366\n",
      "Epoch 78/100\n",
      "\u001b[1m30/30\u001b[0m \u001b[32m━━━━━━━━━━━━━━━━━━━━\u001b[0m\u001b[37m\u001b[0m \u001b[1m5s\u001b[0m 165ms/step - loss: 0.0024 - mean_absolute_error: 0.0347\n",
      "Epoch 79/100\n",
      "\u001b[1m30/30\u001b[0m \u001b[32m━━━━━━━━━━━━━━━━━━━━\u001b[0m\u001b[37m\u001b[0m \u001b[1m5s\u001b[0m 167ms/step - loss: 0.0027 - mean_absolute_error: 0.0363\n",
      "Epoch 80/100\n",
      "\u001b[1m30/30\u001b[0m \u001b[32m━━━━━━━━━━━━━━━━━━━━\u001b[0m\u001b[37m\u001b[0m \u001b[1m5s\u001b[0m 164ms/step - loss: 0.0028 - mean_absolute_error: 0.0372\n",
      "Epoch 81/100\n",
      "\u001b[1m30/30\u001b[0m \u001b[32m━━━━━━━━━━━━━━━━━━━━\u001b[0m\u001b[37m\u001b[0m \u001b[1m5s\u001b[0m 164ms/step - loss: 0.0027 - mean_absolute_error: 0.0372\n",
      "Epoch 82/100\n",
      "\u001b[1m30/30\u001b[0m \u001b[32m━━━━━━━━━━━━━━━━━━━━\u001b[0m\u001b[37m\u001b[0m \u001b[1m5s\u001b[0m 165ms/step - loss: 0.0023 - mean_absolute_error: 0.0333\n",
      "Epoch 83/100\n",
      "\u001b[1m30/30\u001b[0m \u001b[32m━━━━━━━━━━━━━━━━━━━━\u001b[0m\u001b[37m\u001b[0m \u001b[1m5s\u001b[0m 167ms/step - loss: 0.0027 - mean_absolute_error: 0.0369\n",
      "Epoch 84/100\n",
      "\u001b[1m30/30\u001b[0m \u001b[32m━━━━━━━━━━━━━━━━━━━━\u001b[0m\u001b[37m\u001b[0m \u001b[1m5s\u001b[0m 162ms/step - loss: 0.0022 - mean_absolute_error: 0.0333\n",
      "Epoch 85/100\n",
      "\u001b[1m30/30\u001b[0m \u001b[32m━━━━━━━━━━━━━━━━━━━━\u001b[0m\u001b[37m\u001b[0m \u001b[1m5s\u001b[0m 164ms/step - loss: 0.0021 - mean_absolute_error: 0.0333\n",
      "Epoch 86/100\n",
      "\u001b[1m30/30\u001b[0m \u001b[32m━━━━━━━━━━━━━━━━━━━━\u001b[0m\u001b[37m\u001b[0m \u001b[1m5s\u001b[0m 172ms/step - loss: 0.0023 - mean_absolute_error: 0.0345\n",
      "Epoch 87/100\n",
      "\u001b[1m30/30\u001b[0m \u001b[32m━━━━━━━━━━━━━━━━━━━━\u001b[0m\u001b[37m\u001b[0m \u001b[1m5s\u001b[0m 169ms/step - loss: 0.0024 - mean_absolute_error: 0.0349\n",
      "Epoch 88/100\n",
      "\u001b[1m30/30\u001b[0m \u001b[32m━━━━━━━━━━━━━━━━━━━━\u001b[0m\u001b[37m\u001b[0m \u001b[1m5s\u001b[0m 162ms/step - loss: 0.0023 - mean_absolute_error: 0.0332\n",
      "Epoch 89/100\n",
      "\u001b[1m30/30\u001b[0m \u001b[32m━━━━━━━━━━━━━━━━━━━━\u001b[0m\u001b[37m\u001b[0m \u001b[1m5s\u001b[0m 165ms/step - loss: 0.0023 - mean_absolute_error: 0.0344\n",
      "Epoch 90/100\n",
      "\u001b[1m30/30\u001b[0m \u001b[32m━━━━━━━━━━━━━━━━━━━━\u001b[0m\u001b[37m\u001b[0m \u001b[1m5s\u001b[0m 162ms/step - loss: 0.0022 - mean_absolute_error: 0.0324\n",
      "Epoch 91/100\n",
      "\u001b[1m30/30\u001b[0m \u001b[32m━━━━━━━━━━━━━━━━━━━━\u001b[0m\u001b[37m\u001b[0m \u001b[1m5s\u001b[0m 165ms/step - loss: 0.0021 - mean_absolute_error: 0.0329\n",
      "Epoch 92/100\n",
      "\u001b[1m30/30\u001b[0m \u001b[32m━━━━━━━━━━━━━━━━━━━━\u001b[0m\u001b[37m\u001b[0m \u001b[1m5s\u001b[0m 169ms/step - loss: 0.0025 - mean_absolute_error: 0.0351\n",
      "Epoch 93/100\n",
      "\u001b[1m30/30\u001b[0m \u001b[32m━━━━━━━━━━━━━━━━━━━━\u001b[0m\u001b[37m\u001b[0m \u001b[1m5s\u001b[0m 160ms/step - loss: 0.0025 - mean_absolute_error: 0.0351\n",
      "Epoch 94/100\n",
      "\u001b[1m30/30\u001b[0m \u001b[32m━━━━━━━━━━━━━━━━━━━━\u001b[0m\u001b[37m\u001b[0m \u001b[1m5s\u001b[0m 162ms/step - loss: 0.0022 - mean_absolute_error: 0.0326\n",
      "Epoch 95/100\n",
      "\u001b[1m30/30\u001b[0m \u001b[32m━━━━━━━━━━━━━━━━━━━━\u001b[0m\u001b[37m\u001b[0m \u001b[1m5s\u001b[0m 161ms/step - loss: 0.0025 - mean_absolute_error: 0.0341\n",
      "Epoch 96/100\n",
      "\u001b[1m30/30\u001b[0m \u001b[32m━━━━━━━━━━━━━━━━━━━━\u001b[0m\u001b[37m\u001b[0m \u001b[1m5s\u001b[0m 160ms/step - loss: 0.0023 - mean_absolute_error: 0.0334\n",
      "Epoch 97/100\n",
      "\u001b[1m30/30\u001b[0m \u001b[32m━━━━━━━━━━━━━━━━━━━━\u001b[0m\u001b[37m\u001b[0m \u001b[1m5s\u001b[0m 165ms/step - loss: 0.0021 - mean_absolute_error: 0.0328\n",
      "Epoch 98/100\n",
      "\u001b[1m30/30\u001b[0m \u001b[32m━━━━━━━━━━━━━━━━━━━━\u001b[0m\u001b[37m\u001b[0m \u001b[1m5s\u001b[0m 161ms/step - loss: 0.0021 - mean_absolute_error: 0.0326\n",
      "Epoch 99/100\n",
      "\u001b[1m30/30\u001b[0m \u001b[32m━━━━━━━━━━━━━━━━━━━━\u001b[0m\u001b[37m\u001b[0m \u001b[1m5s\u001b[0m 162ms/step - loss: 0.0022 - mean_absolute_error: 0.0323\n",
      "Epoch 100/100\n",
      "\u001b[1m30/30\u001b[0m \u001b[32m━━━━━━━━━━━━━━━━━━━━\u001b[0m\u001b[37m\u001b[0m \u001b[1m5s\u001b[0m 164ms/step - loss: 0.0028 - mean_absolute_error: 0.0374\n"
     ]
    },
    {
     "data": {
      "text/plain": [
       "<keras.src.callbacks.history.History at 0x2ea7fed0e10>"
      ]
     },
     "execution_count": 29,
     "metadata": {},
     "output_type": "execute_result"
    }
   ],
   "source": [
    "import tensorflow as tf\n",
    "model.compile(optimizer = 'adam', loss = 'mean_squared_error', metrics=[tf.keras.metrics.MeanAbsoluteError()])\n",
    "model.fit(x_train, y_train,epochs = 100)"
   ]
  },
  {
   "cell_type": "code",
   "execution_count": 30,
   "id": "zG1W6DhzI-hP",
   "metadata": {
    "id": "zG1W6DhzI-hP"
   },
   "outputs": [
    {
     "name": "stderr",
     "output_type": "stream",
     "text": [
      "WARNING:absl:You are saving your model as an HDF5 file via `model.save()` or `keras.saving.save_model(model)`. This file format is considered legacy. We recommend using instead the native Keras format, e.g. `model.save('my_model.keras')` or `keras.saving.save_model(model, 'my_model.keras')`. \n"
     ]
    }
   ],
   "source": [
    "model.save('keras_model.h5')"
   ]
  },
  {
   "cell_type": "code",
   "execution_count": 31,
   "id": "khcKI1sSJSJB",
   "metadata": {
    "colab": {
     "base_uri": "https://localhost:8080/"
    },
    "id": "khcKI1sSJSJB",
    "outputId": "22c3f1bf-201a-4a60-ec6f-3be005f87ab1"
   },
   "outputs": [
    {
     "data": {
      "text/plain": [
       "(444, 1)"
      ]
     },
     "execution_count": 31,
     "metadata": {},
     "output_type": "execute_result"
    }
   ],
   "source": [
    "test_close.shape"
   ]
  },
  {
   "cell_type": "code",
   "execution_count": 32,
   "id": "6QyF-7KbKaGt",
   "metadata": {
    "id": "6QyF-7KbKaGt"
   },
   "outputs": [],
   "source": [
    "past_100_days = pd.DataFrame(train_close[-100:])"
   ]
  },
  {
   "cell_type": "code",
   "execution_count": 33,
   "id": "pKsjLCyGLuOz",
   "metadata": {
    "id": "pKsjLCyGLuOz"
   },
   "outputs": [],
   "source": [
    "test_df = pd.DataFrame(test_close)"
   ]
  },
  {
   "cell_type": "markdown",
   "id": "d9ZKAzB8oKXJ",
   "metadata": {
    "id": "d9ZKAzB8oKXJ"
   },
   "source": [
    "**Defining the final dataset for testing by including last 100 coloums of the training dataset to get the prediction from the 1st column of the testing dataset.**\n",
    "\n",
    "---\n"
   ]
  },
  {
   "cell_type": "code",
   "execution_count": 35,
   "id": "UUapqTcVLOj-",
   "metadata": {
    "colab": {
     "base_uri": "https://localhost:8080/"
    },
    "id": "UUapqTcVLOj-",
    "outputId": "0b06f215-d627-419d-8e78-461a857ccf4d"
   },
   "outputs": [],
   "source": [
    "#final_df = past_100_days.append(test_df, ignore_index = True)\n",
    "final_df = pd.concat([past_100_days, test_df], ignore_index=True)\n"
   ]
  },
  {
   "cell_type": "code",
   "execution_count": 36,
   "id": "L5gFYc1hMRjS",
   "metadata": {
    "colab": {
     "base_uri": "https://localhost:8080/",
     "height": 206
    },
    "id": "L5gFYc1hMRjS",
    "outputId": "200e81cd-e7d8-4d77-d727-6d5918b2e074"
   },
   "outputs": [
    {
     "data": {
      "text/html": [
       "<div>\n",
       "<style scoped>\n",
       "    .dataframe tbody tr th:only-of-type {\n",
       "        vertical-align: middle;\n",
       "    }\n",
       "\n",
       "    .dataframe tbody tr th {\n",
       "        vertical-align: top;\n",
       "    }\n",
       "\n",
       "    .dataframe thead th {\n",
       "        text-align: right;\n",
       "    }\n",
       "</style>\n",
       "<table border=\"1\" class=\"dataframe\">\n",
       "  <thead>\n",
       "    <tr style=\"text-align: right;\">\n",
       "      <th></th>\n",
       "      <th>0</th>\n",
       "    </tr>\n",
       "  </thead>\n",
       "  <tbody>\n",
       "    <tr>\n",
       "      <th>0</th>\n",
       "      <td>1041.199951</td>\n",
       "    </tr>\n",
       "    <tr>\n",
       "      <th>1</th>\n",
       "      <td>1062.500000</td>\n",
       "    </tr>\n",
       "    <tr>\n",
       "      <th>2</th>\n",
       "      <td>1100.500000</td>\n",
       "    </tr>\n",
       "    <tr>\n",
       "      <th>3</th>\n",
       "      <td>1047.849976</td>\n",
       "    </tr>\n",
       "    <tr>\n",
       "      <th>4</th>\n",
       "      <td>1030.775024</td>\n",
       "    </tr>\n",
       "  </tbody>\n",
       "</table>\n",
       "</div>"
      ],
      "text/plain": [
       "             0\n",
       "0  1041.199951\n",
       "1  1062.500000\n",
       "2  1100.500000\n",
       "3  1047.849976\n",
       "4  1030.775024"
      ]
     },
     "execution_count": 36,
     "metadata": {},
     "output_type": "execute_result"
    }
   ],
   "source": [
    "final_df.head()"
   ]
  },
  {
   "cell_type": "code",
   "execution_count": 37,
   "id": "BU7BPmzvMZpZ",
   "metadata": {
    "colab": {
     "base_uri": "https://localhost:8080/"
    },
    "id": "BU7BPmzvMZpZ",
    "outputId": "385dad96-22ef-4fe8-8aea-0a5ce1a7f6a6"
   },
   "outputs": [
    {
     "name": "stderr",
     "output_type": "stream",
     "text": [
      "g:\\Users\\user\\anaconda3\\Lib\\site-packages\\sklearn\\utils\\validation.py:767: FutureWarning: is_sparse is deprecated and will be removed in a future version. Check `isinstance(dtype, pd.SparseDtype)` instead.\n",
      "  if not hasattr(array, \"sparse\") and array.dtypes.apply(is_sparse).any():\n",
      "g:\\Users\\user\\anaconda3\\Lib\\site-packages\\sklearn\\utils\\validation.py:605: FutureWarning: is_sparse is deprecated and will be removed in a future version. Check `isinstance(dtype, pd.SparseDtype)` instead.\n",
      "  if is_sparse(pd_dtype):\n",
      "g:\\Users\\user\\anaconda3\\Lib\\site-packages\\sklearn\\utils\\validation.py:614: FutureWarning: is_sparse is deprecated and will be removed in a future version. Check `isinstance(dtype, pd.SparseDtype)` instead.\n",
      "  if is_sparse(pd_dtype) or not is_extension_array_dtype(pd_dtype):\n",
      "g:\\Users\\user\\anaconda3\\Lib\\site-packages\\sklearn\\utils\\validation.py:767: FutureWarning: is_sparse is deprecated and will be removed in a future version. Check `isinstance(dtype, pd.SparseDtype)` instead.\n",
      "  if not hasattr(array, \"sparse\") and array.dtypes.apply(is_sparse).any():\n",
      "g:\\Users\\user\\anaconda3\\Lib\\site-packages\\sklearn\\utils\\validation.py:605: FutureWarning: is_sparse is deprecated and will be removed in a future version. Check `isinstance(dtype, pd.SparseDtype)` instead.\n",
      "  if is_sparse(pd_dtype):\n",
      "g:\\Users\\user\\anaconda3\\Lib\\site-packages\\sklearn\\utils\\validation.py:614: FutureWarning: is_sparse is deprecated and will be removed in a future version. Check `isinstance(dtype, pd.SparseDtype)` instead.\n",
      "  if is_sparse(pd_dtype) or not is_extension_array_dtype(pd_dtype):\n"
     ]
    },
    {
     "data": {
      "text/plain": [
       "array([[0.14654485],\n",
       "       [0.20208605],\n",
       "       [0.3011734 ],\n",
       "       [0.1638852 ],\n",
       "       [0.11936121],\n",
       "       [0.10430248],\n",
       "       [0.13930912],\n",
       "       [0.09928295],\n",
       "       [0.04152539],\n",
       "       [0.03259452],\n",
       "       [0.10762718],\n",
       "       [0.10156457],\n",
       "       [0.13070404],\n",
       "       [0.14263351],\n",
       "       [0.157888  ],\n",
       "       [0.08044322],\n",
       "       [0.11610176],\n",
       "       [0.1438071 ],\n",
       "       [0.13194257],\n",
       "       [0.10430248],\n",
       "       [0.14211213],\n",
       "       [0.0960235 ],\n",
       "       [0.06760101],\n",
       "       [0.08116037],\n",
       "       [0.06675352],\n",
       "       [0.06127771],\n",
       "       [0.01303781],\n",
       "       [0.01968706],\n",
       "       [0.03011731],\n",
       "       [0.02216428],\n",
       "       [0.0065189 ],\n",
       "       [0.        ],\n",
       "       [0.01538468],\n",
       "       [0.03259452],\n",
       "       [0.0587354 ],\n",
       "       [0.03083445],\n",
       "       [0.01701441],\n",
       "       [0.0273794 ],\n",
       "       [0.03911343],\n",
       "       [0.03911343],\n",
       "       [0.09517601],\n",
       "       [0.0718383 ],\n",
       "       [0.03259452],\n",
       "       [0.04582793],\n",
       "       [0.07822686],\n",
       "       [0.08865711],\n",
       "       [0.12079518],\n",
       "       [0.15104315],\n",
       "       [0.16681871],\n",
       "       [0.17503259],\n",
       "       [0.15834413],\n",
       "       [0.17601043],\n",
       "       [0.23037803],\n",
       "       [0.23585385],\n",
       "       [0.23611486],\n",
       "       [0.2426987 ],\n",
       "       [0.23109518],\n",
       "       [0.29595828],\n",
       "       [0.29856584],\n",
       "       [0.31290743],\n",
       "       [0.32868331],\n",
       "       [0.34550196],\n",
       "       [0.410691  ],\n",
       "       [0.45632334],\n",
       "       [0.4654498 ],\n",
       "       [0.46284224],\n",
       "       [0.30775756],\n",
       "       [0.32007823],\n",
       "       [0.3977837 ],\n",
       "       [0.38344211],\n",
       "       [0.34850072],\n",
       "       [0.34550196],\n",
       "       [0.32607575],\n",
       "       [0.294785  ],\n",
       "       [0.30638853],\n",
       "       [0.28683181],\n",
       "       [0.32724902],\n",
       "       [0.2878749 ],\n",
       "       [0.18520215],\n",
       "       [0.22164276],\n",
       "       [0.22816167],\n",
       "       [0.20990874],\n",
       "       [0.15006532],\n",
       "       [0.1642764 ],\n",
       "       [0.16297262],\n",
       "       [0.16492829],\n",
       "       [0.2061279 ],\n",
       "       [0.23102992],\n",
       "       [0.24230782],\n",
       "       [0.25065189],\n",
       "       [0.27744465],\n",
       "       [0.28780965],\n",
       "       [0.2608867 ],\n",
       "       [0.273794  ],\n",
       "       [0.2700781 ],\n",
       "       [0.24791382],\n",
       "       [0.33637549],\n",
       "       [0.33116037],\n",
       "       [0.35534557],\n",
       "       [0.34178605],\n",
       "       [0.23833122],\n",
       "       [0.21512386],\n",
       "       [0.19817471],\n",
       "       [0.23859192],\n",
       "       [0.21753598],\n",
       "       [0.20117347],\n",
       "       [0.17503259],\n",
       "       [0.05612783],\n",
       "       [0.05397656],\n",
       "       [0.14993481],\n",
       "       [0.20358527],\n",
       "       [0.20860495],\n",
       "       [0.15325952],\n",
       "       [0.12392444],\n",
       "       [0.14348116],\n",
       "       [0.14602347],\n",
       "       [0.22803116],\n",
       "       [0.24908742],\n",
       "       [0.23155163],\n",
       "       [0.20860495],\n",
       "       [0.19647973],\n",
       "       [0.17601043],\n",
       "       [0.18930893],\n",
       "       [0.16949153],\n",
       "       [0.26603657],\n",
       "       [0.27926982],\n",
       "       [0.22516291],\n",
       "       [0.31460241],\n",
       "       [0.32581474],\n",
       "       [0.30130391],\n",
       "       [0.31779661],\n",
       "       [0.29100385],\n",
       "       [0.27392451],\n",
       "       [0.26975215],\n",
       "       [0.27509778],\n",
       "       [0.27542373],\n",
       "       [0.30528019],\n",
       "       [0.28683181],\n",
       "       [0.22177327],\n",
       "       [0.23161656],\n",
       "       [0.23728814],\n",
       "       [0.19967393],\n",
       "       [0.25528038],\n",
       "       [0.30130391],\n",
       "       [0.26225541],\n",
       "       [0.16981747],\n",
       "       [0.03846154],\n",
       "       [0.0756193 ],\n",
       "       [0.11186447],\n",
       "       [0.13702751],\n",
       "       [0.1642764 ],\n",
       "       [0.21329869],\n",
       "       [0.19295958],\n",
       "       [0.19876134],\n",
       "       [0.21538455],\n",
       "       [0.20880039],\n",
       "       [0.19041727],\n",
       "       [0.17627112],\n",
       "       [0.13950456],\n",
       "       [0.12777053],\n",
       "       [0.11212516],\n",
       "       [0.14341591],\n",
       "       [0.18904824],\n",
       "       [0.21929589],\n",
       "       [0.27874843],\n",
       "       [0.28037816],\n",
       "       [0.31290743],\n",
       "       [0.39243807],\n",
       "       [0.32764022],\n",
       "       [0.31303794],\n",
       "       [0.38070404],\n",
       "       [0.37033905],\n",
       "       [0.37157757],\n",
       "       [0.42112125],\n",
       "       [0.41870913],\n",
       "       [0.44980443],\n",
       "       [0.53011747],\n",
       "       [0.53754896],\n",
       "       [0.53911343],\n",
       "       [0.55019557],\n",
       "       [0.5619296 ],\n",
       "       [0.57418501],\n",
       "       [0.60397653],\n",
       "       [0.53663637],\n",
       "       [0.47588005],\n",
       "       [0.50990886],\n",
       "       [0.54139505],\n",
       "       [0.55247718],\n",
       "       [0.54348122],\n",
       "       [0.52803129],\n",
       "       [0.60625815],\n",
       "       [0.61675365],\n",
       "       [0.64132973],\n",
       "       [0.7331161 ],\n",
       "       [0.77835724],\n",
       "       [0.77835724],\n",
       "       [0.76271186],\n",
       "       [0.78565854],\n",
       "       [0.78129074],\n",
       "       [0.70404172],\n",
       "       [0.67535854],\n",
       "       [0.67809661],\n",
       "       [0.67829205],\n",
       "       [0.63761414],\n",
       "       [0.64537158],\n",
       "       [0.63233377],\n",
       "       [0.61303775],\n",
       "       [0.65189048],\n",
       "       [0.67803135],\n",
       "       [0.65189048],\n",
       "       [0.60625815],\n",
       "       [0.5998045 ],\n",
       "       [0.59973924],\n",
       "       [0.60730124],\n",
       "       [0.64784863],\n",
       "       [0.69100391],\n",
       "       [0.7093221 ],\n",
       "       [0.70795306],\n",
       "       [0.72105613],\n",
       "       [0.70938735],\n",
       "       [0.74185137],\n",
       "       [0.79198168],\n",
       "       [0.79928298],\n",
       "       [0.82014348],\n",
       "       [0.85410704],\n",
       "       [0.80990867],\n",
       "       [0.81029987],\n",
       "       [0.81251623],\n",
       "       [0.76140808],\n",
       "       [0.74837027],\n",
       "       [0.77053455],\n",
       "       [0.79661017],\n",
       "       [0.87614081],\n",
       "       [0.92079531],\n",
       "       [0.92998703],\n",
       "       [0.86408083],\n",
       "       [0.89960887],\n",
       "       [0.91277718],\n",
       "       [0.91955678],\n",
       "       [0.96238579],\n",
       "       [1.        ],\n",
       "       [0.98513702],\n",
       "       [0.88559322],\n",
       "       [0.93415906],\n",
       "       [0.910691  ],\n",
       "       [0.91264668],\n",
       "       [0.92412001],\n",
       "       [0.95071702],\n",
       "       [0.90514993],\n",
       "       [0.59973924],\n",
       "       [0.58402862],\n",
       "       [0.58018253],\n",
       "       [0.61942646],\n",
       "       [0.61923071],\n",
       "       [0.63031284],\n",
       "       [0.65580183],\n",
       "       [0.70273794],\n",
       "       [0.77053455],\n",
       "       [0.79595828],\n",
       "       [0.8083442 ],\n",
       "       [0.76531943],\n",
       "       [0.75749674],\n",
       "       [0.76323325],\n",
       "       [0.78878748],\n",
       "       [0.77594511],\n",
       "       [0.78878748],\n",
       "       [0.81127771],\n",
       "       [0.79498044],\n",
       "       [0.76590606],\n",
       "       [0.76994791],\n",
       "       [0.8039764 ],\n",
       "       [0.85006519],\n",
       "       [0.8422425 ],\n",
       "       [0.84093872],\n",
       "       [0.85436773],\n",
       "       [0.86747079],\n",
       "       [0.8803781 ],\n",
       "       [0.88572373],\n",
       "       [0.84550196],\n",
       "       [0.86036493],\n",
       "       [0.78507158],\n",
       "       [0.69315502],\n",
       "       [0.70286845],\n",
       "       [0.68604948],\n",
       "       [0.67405476],\n",
       "       [0.59015633],\n",
       "       [0.49837027],\n",
       "       [0.48891786],\n",
       "       [0.56747066],\n",
       "       [0.60599746],\n",
       "       [0.64928292],\n",
       "       [0.65762699],\n",
       "       [0.68396362],\n",
       "       [0.64621891],\n",
       "       [0.64537158],\n",
       "       [0.70013038],\n",
       "       [0.71186441],\n",
       "       [0.72359844],\n",
       "       [0.74445893],\n",
       "       [0.75697536],\n",
       "       [0.72314198],\n",
       "       [0.61277705],\n",
       "       [0.57033892],\n",
       "       [0.58741858],\n",
       "       [0.62581486],\n",
       "       [0.66525424],\n",
       "       [0.6650588 ],\n",
       "       [0.6916558 ],\n",
       "       [0.72131682],\n",
       "       [0.67053461],\n",
       "       [0.69491525],\n",
       "       [0.66916558],\n",
       "       [0.67568449],\n",
       "       [0.6851369 ],\n",
       "       [0.68591929],\n",
       "       [0.67737946],\n",
       "       [0.69478475],\n",
       "       [0.70782256],\n",
       "       [0.65189048],\n",
       "       [0.64152549],\n",
       "       [0.70026088],\n",
       "       [0.69374198],\n",
       "       [0.71577575],\n",
       "       [0.7573013 ],\n",
       "       [0.69100391],\n",
       "       [0.60365059],\n",
       "       [0.62222947],\n",
       "       [0.62190352],\n",
       "       [0.63917862],\n",
       "       [0.76271186],\n",
       "       [0.77607562],\n",
       "       [0.86701434],\n",
       "       [0.87646675],\n",
       "       [0.91395046],\n",
       "       [0.9243807 ],\n",
       "       [0.90984367],\n",
       "       [0.85443298],\n",
       "       [0.8426337 ],\n",
       "       [0.88989576],\n",
       "       [0.9206648 ],\n",
       "       [0.97216415],\n",
       "       [0.92705352],\n",
       "       [0.83441982],\n",
       "       [0.81518905],\n",
       "       [0.81851375],\n",
       "       [0.8084747 ],\n",
       "       [0.78878748],\n",
       "       [0.75880052],\n",
       "       [0.76629726],\n",
       "       [0.75840932],\n",
       "       [0.77979152],\n",
       "       [0.79380717],\n",
       "       [0.82920469],\n",
       "       [0.79804446],\n",
       "       [0.74993475],\n",
       "       [0.69230769],\n",
       "       [0.69634954],\n",
       "       [0.71707953],\n",
       "       [0.71838331],\n",
       "       [0.72001304],\n",
       "       [0.69113442],\n",
       "       [0.74837027],\n",
       "       [0.80945254],\n",
       "       [0.86720978],\n",
       "       [0.85788787],\n",
       "       [0.85788787],\n",
       "       [0.83363742],\n",
       "       [0.78402881],\n",
       "       [0.65189048],\n",
       "       [0.5930249 ],\n",
       "       [0.5619296 ],\n",
       "       [0.57046942],\n",
       "       [0.60195561],\n",
       "       [0.62262066],\n",
       "       [0.67275098],\n",
       "       [0.63246427],\n",
       "       [0.6271839 ],\n",
       "       [0.59595841],\n",
       "       [0.63520202],\n",
       "       [0.69100391],\n",
       "       [0.63337686],\n",
       "       [0.63063879],\n",
       "       [0.7122556 ],\n",
       "       [0.72359844],\n",
       "       [0.70795306],\n",
       "       [0.66551493],\n",
       "       [0.6714472 ],\n",
       "       [0.69230769],\n",
       "       [0.68722307],\n",
       "       [0.68676662],\n",
       "       [0.71303768],\n",
       "       [0.75378084],\n",
       "       [0.74217731],\n",
       "       [0.80273788],\n",
       "       [0.80690991],\n",
       "       [0.81095176],\n",
       "       [0.7982399 ],\n",
       "       [0.81779661],\n",
       "       [0.83226871],\n",
       "       [0.80899609],\n",
       "       [0.80899609],\n",
       "       [0.80638853],\n",
       "       [0.78226858],\n",
       "       [0.77138188],\n",
       "       [0.75749674],\n",
       "       [0.7741852 ],\n",
       "       [0.76499348],\n",
       "       [0.66075626],\n",
       "       [0.66623207],\n",
       "       [0.68376786],\n",
       "       [0.69335078],\n",
       "       [0.70143416],\n",
       "       [0.7263365 ],\n",
       "       [0.75228162],\n",
       "       [0.77861793],\n",
       "       [0.76773155],\n",
       "       [0.74856571],\n",
       "       [0.75645365],\n",
       "       [0.74758788],\n",
       "       [0.74315515],\n",
       "       [0.76499348],\n",
       "       [0.78363761],\n",
       "       [0.78226858],\n",
       "       [0.79569759],\n",
       "       [0.82529335],\n",
       "       [0.79595828],\n",
       "       [0.69967393],\n",
       "       [0.63233377],\n",
       "       [0.65893077],\n",
       "       [0.6779661 ],\n",
       "       [0.69100391],\n",
       "       [0.72568461],\n",
       "       [0.74745769],\n",
       "       [0.75867002],\n",
       "       [0.76284237],\n",
       "       [0.71844856],\n",
       "       [0.66883963],\n",
       "       [0.68070417],\n",
       "       [0.66642751],\n",
       "       [0.6807691 ],\n",
       "       [0.66949153],\n",
       "       [0.65554113],\n",
       "       [0.67405476],\n",
       "       [0.69217719],\n",
       "       [0.67275098],\n",
       "       [0.7053455 ],\n",
       "       [0.75632347],\n",
       "       [0.75228162],\n",
       "       [0.76479804],\n",
       "       [0.74589322],\n",
       "       [0.82398957],\n",
       "       [0.76401565],\n",
       "       [0.86975241],\n",
       "       [0.89308996],\n",
       "       [0.93872229],\n",
       "       [0.98031278],\n",
       "       [0.91525424],\n",
       "       [0.89322047],\n",
       "       [0.7810953 ],\n",
       "       [0.73728814],\n",
       "       [0.70658403],\n",
       "       [0.75071714],\n",
       "       [0.76623201],\n",
       "       [0.73148637],\n",
       "       [0.73011734],\n",
       "       [0.7535854 ],\n",
       "       [0.79041721],\n",
       "       [0.74204681],\n",
       "       [0.73363749],\n",
       "       [0.72164276],\n",
       "       [0.74837027],\n",
       "       [0.726206  ],\n",
       "       [0.74393755],\n",
       "       [0.74706649],\n",
       "       [0.73794003],\n",
       "       [0.74452418],\n",
       "       [0.74185137],\n",
       "       [0.73428938],\n",
       "       [0.6779661 ],\n",
       "       [0.70743168],\n",
       "       [0.72998683],\n",
       "       [0.7946545 ],\n",
       "       [0.78207314],\n",
       "       [0.78350711],\n",
       "       [0.81121245],\n",
       "       [0.8900912 ],\n",
       "       [0.93089961],\n",
       "       [0.88259446],\n",
       "       [0.84745763],\n",
       "       [0.83181226],\n",
       "       [0.80443286],\n",
       "       [0.77913963],\n",
       "       [0.66492829],\n",
       "       [0.64537158],\n",
       "       [0.65189048],\n",
       "       [0.63344211],\n",
       "       [0.6852674 ],\n",
       "       [0.72001304],\n",
       "       [0.7265972 ],\n",
       "       [0.71069113],\n",
       "       [0.71753598],\n",
       "       [0.70410697],\n",
       "       [0.67803135],\n",
       "       [0.6714472 ],\n",
       "       [0.6747719 ],\n",
       "       [0.71512386],\n",
       "       [0.71707953],\n",
       "       [0.66492829],\n",
       "       [0.66942627],\n",
       "       [0.65006532],\n",
       "       [0.62581486],\n",
       "       [0.54309002],\n",
       "       [0.50325945],\n",
       "       [0.52803129],\n",
       "       [0.49022164],\n",
       "       [0.49804433],\n",
       "       [0.51101689],\n",
       "       [0.5374837 ],\n",
       "       [0.51564537],\n",
       "       [0.47959596],\n",
       "       [0.4726206 ],\n",
       "       [0.49563221],\n",
       "       [0.50462849],\n",
       "       [0.49087353],\n",
       "       [0.49152542],\n",
       "       [0.45775762],\n",
       "       [0.45013038],\n",
       "       [0.45280319],\n",
       "       [0.45632334],\n",
       "       [0.49804433],\n",
       "       [0.51271186],\n",
       "       [0.47014354],\n",
       "       [0.51245117],\n",
       "       [0.53976532],\n",
       "       [0.5519558 ],\n",
       "       [0.56147315],\n",
       "       [0.56955684],\n",
       "       [0.56062581],\n",
       "       [0.57438077],\n",
       "       [0.56584094],\n",
       "       [0.58696213],\n",
       "       [0.62027379],\n",
       "       [0.57666238],\n",
       "       [0.57040417]])"
      ]
     },
     "execution_count": 37,
     "metadata": {},
     "output_type": "execute_result"
    }
   ],
   "source": [
    "input_data = scaler.fit_transform(final_df)\n",
    "input_data"
   ]
  },
  {
   "cell_type": "code",
   "execution_count": 38,
   "id": "2E6k84TtMpvD",
   "metadata": {
    "colab": {
     "base_uri": "https://localhost:8080/"
    },
    "id": "2E6k84TtMpvD",
    "outputId": "06c0a3bb-bb78-49f3-d233-4ef1922d7a30"
   },
   "outputs": [
    {
     "data": {
      "text/plain": [
       "(544, 1)"
      ]
     },
     "execution_count": 38,
     "metadata": {},
     "output_type": "execute_result"
    }
   ],
   "source": [
    "input_data.shape"
   ]
  },
  {
   "cell_type": "markdown",
   "id": "hJzkNc_To9li",
   "metadata": {
    "id": "hJzkNc_To9li"
   },
   "source": [
    "# Testing the model\n",
    "\n",
    "---\n",
    "\n"
   ]
  },
  {
   "cell_type": "code",
   "execution_count": 39,
   "id": "d9xCof1CMwwh",
   "metadata": {
    "id": "d9xCof1CMwwh"
   },
   "outputs": [],
   "source": [
    "x_test = []\n",
    "y_test = []\n",
    "for i in range(100, input_data.shape[0]):\n",
    "   x_test.append(input_data[i-100: i])\n",
    "   y_test.append(input_data[i, 0])"
   ]
  },
  {
   "cell_type": "code",
   "execution_count": 40,
   "id": "6MGDYZvrNUYc",
   "metadata": {
    "colab": {
     "base_uri": "https://localhost:8080/"
    },
    "id": "6MGDYZvrNUYc",
    "outputId": "4c699113-12cb-4065-b162-29e1761b96a4"
   },
   "outputs": [
    {
     "name": "stdout",
     "output_type": "stream",
     "text": [
      "(444, 100, 1)\n",
      "(444,)\n"
     ]
    }
   ],
   "source": [
    "x_test, y_test = np.array(x_test), np.array(y_test)\n",
    "print(x_test.shape)\n",
    "print(y_test.shape)"
   ]
  },
  {
   "cell_type": "markdown",
   "id": "PjvHSsrYpFBG",
   "metadata": {
    "id": "PjvHSsrYpFBG"
   },
   "source": [
    "# Making prediction and plotting the graph of predicted vs actual values\n",
    "\n",
    "---\n",
    "\n"
   ]
  },
  {
   "cell_type": "code",
   "execution_count": 41,
   "id": "GLMExu7NNdmA",
   "metadata": {
    "colab": {
     "base_uri": "https://localhost:8080/"
    },
    "id": "GLMExu7NNdmA",
    "outputId": "e415e6ce-3846-4044-e1a3-a1f7b17e10e0"
   },
   "outputs": [
    {
     "name": "stdout",
     "output_type": "stream",
     "text": [
      "\u001b[1m14/14\u001b[0m \u001b[32m━━━━━━━━━━━━━━━━━━━━\u001b[0m\u001b[37m\u001b[0m \u001b[1m3s\u001b[0m 157ms/step\n"
     ]
    }
   ],
   "source": [
    "# Making predictions\n",
    "\n",
    "y_pred = model.predict(x_test)"
   ]
  },
  {
   "cell_type": "code",
   "execution_count": 42,
   "id": "wAmVS__yNu-A",
   "metadata": {
    "colab": {
     "base_uri": "https://localhost:8080/"
    },
    "id": "wAmVS__yNu-A",
    "outputId": "a7d117ba-f92d-4be6-d813-47147ab5cd1c"
   },
   "outputs": [
    {
     "data": {
      "text/plain": [
       "(444, 1)"
      ]
     },
     "execution_count": 42,
     "metadata": {},
     "output_type": "execute_result"
    }
   ],
   "source": [
    "y_pred.shape"
   ]
  },
  {
   "cell_type": "code",
   "execution_count": 43,
   "id": "HFhTH-1aNyqt",
   "metadata": {
    "colab": {
     "base_uri": "https://localhost:8080/"
    },
    "id": "HFhTH-1aNyqt",
    "outputId": "0e288060-20c6-46e6-bae7-93bb208f67ec"
   },
   "outputs": [
    {
     "data": {
      "text/plain": [
       "array([0.23833122, 0.21512386, 0.19817471, 0.23859192, 0.21753598,\n",
       "       0.20117347, 0.17503259, 0.05612783, 0.05397656, 0.14993481,\n",
       "       0.20358527, 0.20860495, 0.15325952, 0.12392444, 0.14348116,\n",
       "       0.14602347, 0.22803116, 0.24908742, 0.23155163, 0.20860495,\n",
       "       0.19647973, 0.17601043, 0.18930893, 0.16949153, 0.26603657,\n",
       "       0.27926982, 0.22516291, 0.31460241, 0.32581474, 0.30130391,\n",
       "       0.31779661, 0.29100385, 0.27392451, 0.26975215, 0.27509778,\n",
       "       0.27542373, 0.30528019, 0.28683181, 0.22177327, 0.23161656,\n",
       "       0.23728814, 0.19967393, 0.25528038, 0.30130391, 0.26225541,\n",
       "       0.16981747, 0.03846154, 0.0756193 , 0.11186447, 0.13702751,\n",
       "       0.1642764 , 0.21329869, 0.19295958, 0.19876134, 0.21538455,\n",
       "       0.20880039, 0.19041727, 0.17627112, 0.13950456, 0.12777053,\n",
       "       0.11212516, 0.14341591, 0.18904824, 0.21929589, 0.27874843,\n",
       "       0.28037816, 0.31290743, 0.39243807, 0.32764022, 0.31303794,\n",
       "       0.38070404, 0.37033905, 0.37157757, 0.42112125, 0.41870913,\n",
       "       0.44980443, 0.53011747, 0.53754896, 0.53911343, 0.55019557,\n",
       "       0.5619296 , 0.57418501, 0.60397653, 0.53663637, 0.47588005,\n",
       "       0.50990886, 0.54139505, 0.55247718, 0.54348122, 0.52803129,\n",
       "       0.60625815, 0.61675365, 0.64132973, 0.7331161 , 0.77835724,\n",
       "       0.77835724, 0.76271186, 0.78565854, 0.78129074, 0.70404172,\n",
       "       0.67535854, 0.67809661, 0.67829205, 0.63761414, 0.64537158,\n",
       "       0.63233377, 0.61303775, 0.65189048, 0.67803135, 0.65189048,\n",
       "       0.60625815, 0.5998045 , 0.59973924, 0.60730124, 0.64784863,\n",
       "       0.69100391, 0.7093221 , 0.70795306, 0.72105613, 0.70938735,\n",
       "       0.74185137, 0.79198168, 0.79928298, 0.82014348, 0.85410704,\n",
       "       0.80990867, 0.81029987, 0.81251623, 0.76140808, 0.74837027,\n",
       "       0.77053455, 0.79661017, 0.87614081, 0.92079531, 0.92998703,\n",
       "       0.86408083, 0.89960887, 0.91277718, 0.91955678, 0.96238579,\n",
       "       1.        , 0.98513702, 0.88559322, 0.93415906, 0.910691  ,\n",
       "       0.91264668, 0.92412001, 0.95071702, 0.90514993, 0.59973924,\n",
       "       0.58402862, 0.58018253, 0.61942646, 0.61923071, 0.63031284,\n",
       "       0.65580183, 0.70273794, 0.77053455, 0.79595828, 0.8083442 ,\n",
       "       0.76531943, 0.75749674, 0.76323325, 0.78878748, 0.77594511,\n",
       "       0.78878748, 0.81127771, 0.79498044, 0.76590606, 0.76994791,\n",
       "       0.8039764 , 0.85006519, 0.8422425 , 0.84093872, 0.85436773,\n",
       "       0.86747079, 0.8803781 , 0.88572373, 0.84550196, 0.86036493,\n",
       "       0.78507158, 0.69315502, 0.70286845, 0.68604948, 0.67405476,\n",
       "       0.59015633, 0.49837027, 0.48891786, 0.56747066, 0.60599746,\n",
       "       0.64928292, 0.65762699, 0.68396362, 0.64621891, 0.64537158,\n",
       "       0.70013038, 0.71186441, 0.72359844, 0.74445893, 0.75697536,\n",
       "       0.72314198, 0.61277705, 0.57033892, 0.58741858, 0.62581486,\n",
       "       0.66525424, 0.6650588 , 0.6916558 , 0.72131682, 0.67053461,\n",
       "       0.69491525, 0.66916558, 0.67568449, 0.6851369 , 0.68591929,\n",
       "       0.67737946, 0.69478475, 0.70782256, 0.65189048, 0.64152549,\n",
       "       0.70026088, 0.69374198, 0.71577575, 0.7573013 , 0.69100391,\n",
       "       0.60365059, 0.62222947, 0.62190352, 0.63917862, 0.76271186,\n",
       "       0.77607562, 0.86701434, 0.87646675, 0.91395046, 0.9243807 ,\n",
       "       0.90984367, 0.85443298, 0.8426337 , 0.88989576, 0.9206648 ,\n",
       "       0.97216415, 0.92705352, 0.83441982, 0.81518905, 0.81851375,\n",
       "       0.8084747 , 0.78878748, 0.75880052, 0.76629726, 0.75840932,\n",
       "       0.77979152, 0.79380717, 0.82920469, 0.79804446, 0.74993475,\n",
       "       0.69230769, 0.69634954, 0.71707953, 0.71838331, 0.72001304,\n",
       "       0.69113442, 0.74837027, 0.80945254, 0.86720978, 0.85788787,\n",
       "       0.85788787, 0.83363742, 0.78402881, 0.65189048, 0.5930249 ,\n",
       "       0.5619296 , 0.57046942, 0.60195561, 0.62262066, 0.67275098,\n",
       "       0.63246427, 0.6271839 , 0.59595841, 0.63520202, 0.69100391,\n",
       "       0.63337686, 0.63063879, 0.7122556 , 0.72359844, 0.70795306,\n",
       "       0.66551493, 0.6714472 , 0.69230769, 0.68722307, 0.68676662,\n",
       "       0.71303768, 0.75378084, 0.74217731, 0.80273788, 0.80690991,\n",
       "       0.81095176, 0.7982399 , 0.81779661, 0.83226871, 0.80899609,\n",
       "       0.80899609, 0.80638853, 0.78226858, 0.77138188, 0.75749674,\n",
       "       0.7741852 , 0.76499348, 0.66075626, 0.66623207, 0.68376786,\n",
       "       0.69335078, 0.70143416, 0.7263365 , 0.75228162, 0.77861793,\n",
       "       0.76773155, 0.74856571, 0.75645365, 0.74758788, 0.74315515,\n",
       "       0.76499348, 0.78363761, 0.78226858, 0.79569759, 0.82529335,\n",
       "       0.79595828, 0.69967393, 0.63233377, 0.65893077, 0.6779661 ,\n",
       "       0.69100391, 0.72568461, 0.74745769, 0.75867002, 0.76284237,\n",
       "       0.71844856, 0.66883963, 0.68070417, 0.66642751, 0.6807691 ,\n",
       "       0.66949153, 0.65554113, 0.67405476, 0.69217719, 0.67275098,\n",
       "       0.7053455 , 0.75632347, 0.75228162, 0.76479804, 0.74589322,\n",
       "       0.82398957, 0.76401565, 0.86975241, 0.89308996, 0.93872229,\n",
       "       0.98031278, 0.91525424, 0.89322047, 0.7810953 , 0.73728814,\n",
       "       0.70658403, 0.75071714, 0.76623201, 0.73148637, 0.73011734,\n",
       "       0.7535854 , 0.79041721, 0.74204681, 0.73363749, 0.72164276,\n",
       "       0.74837027, 0.726206  , 0.74393755, 0.74706649, 0.73794003,\n",
       "       0.74452418, 0.74185137, 0.73428938, 0.6779661 , 0.70743168,\n",
       "       0.72998683, 0.7946545 , 0.78207314, 0.78350711, 0.81121245,\n",
       "       0.8900912 , 0.93089961, 0.88259446, 0.84745763, 0.83181226,\n",
       "       0.80443286, 0.77913963, 0.66492829, 0.64537158, 0.65189048,\n",
       "       0.63344211, 0.6852674 , 0.72001304, 0.7265972 , 0.71069113,\n",
       "       0.71753598, 0.70410697, 0.67803135, 0.6714472 , 0.6747719 ,\n",
       "       0.71512386, 0.71707953, 0.66492829, 0.66942627, 0.65006532,\n",
       "       0.62581486, 0.54309002, 0.50325945, 0.52803129, 0.49022164,\n",
       "       0.49804433, 0.51101689, 0.5374837 , 0.51564537, 0.47959596,\n",
       "       0.4726206 , 0.49563221, 0.50462849, 0.49087353, 0.49152542,\n",
       "       0.45775762, 0.45013038, 0.45280319, 0.45632334, 0.49804433,\n",
       "       0.51271186, 0.47014354, 0.51245117, 0.53976532, 0.5519558 ,\n",
       "       0.56147315, 0.56955684, 0.56062581, 0.57438077, 0.56584094,\n",
       "       0.58696213, 0.62027379, 0.57666238, 0.57040417])"
      ]
     },
     "execution_count": 43,
     "metadata": {},
     "output_type": "execute_result"
    }
   ],
   "source": [
    "y_test"
   ]
  },
  {
   "cell_type": "code",
   "execution_count": 44,
   "id": "WDIHSvbHN1vk",
   "metadata": {
    "colab": {
     "base_uri": "https://localhost:8080/"
    },
    "id": "WDIHSvbHN1vk",
    "outputId": "7f0459a8-b46e-4383-bd33-1af9f49a0211"
   },
   "outputs": [
    {
     "data": {
      "text/plain": [
       "array([[0.26884696],\n",
       "       [0.2734036 ],\n",
       "       [0.27623144],\n",
       "       [0.27693105],\n",
       "       [0.27570173],\n",
       "       [0.27265865],\n",
       "       [0.26825252],\n",
       "       [0.26276645],\n",
       "       [0.25613505],\n",
       "       [0.24813882],\n",
       "       [0.23939124],\n",
       "       [0.23105863],\n",
       "       [0.22411108],\n",
       "       [0.2185497 ],\n",
       "       [0.21406737],\n",
       "       [0.21050584],\n",
       "       [0.20771837],\n",
       "       [0.20608331],\n",
       "       [0.20584747],\n",
       "       [0.20684424],\n",
       "       [0.20881039],\n",
       "       [0.21133353],\n",
       "       [0.21393162],\n",
       "       [0.21629116],\n",
       "       [0.21814331],\n",
       "       [0.21991593],\n",
       "       [0.22218138],\n",
       "       [0.22495747],\n",
       "       [0.22857276],\n",
       "       [0.23329696],\n",
       "       [0.23892823],\n",
       "       [0.24496156],\n",
       "       [0.25092098],\n",
       "       [0.25624916],\n",
       "       [0.26062047],\n",
       "       [0.26389542],\n",
       "       [0.26600555],\n",
       "       [0.26725358],\n",
       "       [0.26800144],\n",
       "       [0.26807228],\n",
       "       [0.2673118 ],\n",
       "       [0.2658213 ],\n",
       "       [0.2635648 ],\n",
       "       [0.26101655],\n",
       "       [0.2596308 ],\n",
       "       [0.2596116 ],\n",
       "       [0.25953203],\n",
       "       [0.25783515],\n",
       "       [0.25420603],\n",
       "       [0.24882261],\n",
       "       [0.24215427],\n",
       "       [0.2350599 ],\n",
       "       [0.22861475],\n",
       "       [0.22327773],\n",
       "       [0.21922272],\n",
       "       [0.21665496],\n",
       "       [0.21551931],\n",
       "       [0.21537772],\n",
       "       [0.21565579],\n",
       "       [0.21593466],\n",
       "       [0.21589676],\n",
       "       [0.215331  ],\n",
       "       [0.21424884],\n",
       "       [0.21293795],\n",
       "       [0.21194085],\n",
       "       [0.21197067],\n",
       "       [0.21348162],\n",
       "       [0.21677811],\n",
       "       [0.22215527],\n",
       "       [0.22911385],\n",
       "       [0.2365922 ],\n",
       "       [0.24463847],\n",
       "       [0.25302097],\n",
       "       [0.26145646],\n",
       "       [0.27077526],\n",
       "       [0.2826025 ],\n",
       "       [0.2994329 ],\n",
       "       [0.32137737],\n",
       "       [0.34790498],\n",
       "       [0.3777362 ],\n",
       "       [0.40917906],\n",
       "       [0.44057316],\n",
       "       [0.47044098],\n",
       "       [0.49823505],\n",
       "       [0.5209502 ],\n",
       "       [0.5341396 ],\n",
       "       [0.5376306 ],\n",
       "       [0.5342125 ],\n",
       "       [0.5272461 ],\n",
       "       [0.5193504 ],\n",
       "       [0.51200503],\n",
       "       [0.50805914],\n",
       "       [0.5098392 ],\n",
       "       [0.5186516 ],\n",
       "       [0.5361062 ],\n",
       "       [0.5626758 ],\n",
       "       [0.59658134],\n",
       "       [0.63383925],\n",
       "       [0.67079335],\n",
       "       [0.704102  ],\n",
       "       [0.7284868 ],\n",
       "       [0.74076676],\n",
       "       [0.7413026 ],\n",
       "       [0.73257613],\n",
       "       [0.71702933],\n",
       "       [0.6976926 ],\n",
       "       [0.6771907 ],\n",
       "       [0.6573589 ],\n",
       "       [0.64064956],\n",
       "       [0.6297823 ],\n",
       "       [0.62567174],\n",
       "       [0.6263546 ],\n",
       "       [0.6293169 ],\n",
       "       [0.6326442 ],\n",
       "       [0.63546413],\n",
       "       [0.63878775],\n",
       "       [0.64459515],\n",
       "       [0.6541208 ],\n",
       "       [0.667045  ],\n",
       "       [0.6823275 ],\n",
       "       [0.69785327],\n",
       "       [0.7126707 ],\n",
       "       [0.727443  ],\n",
       "       [0.7423644 ],\n",
       "       [0.75743914],\n",
       "       [0.7729333 ],\n",
       "       [0.78675497],\n",
       "       [0.79711574],\n",
       "       [0.80325663],\n",
       "       [0.8037656 ],\n",
       "       [0.79839945],\n",
       "       [0.7889464 ],\n",
       "       [0.77849144],\n",
       "       [0.7715821 ],\n",
       "       [0.7717643 ],\n",
       "       [0.7800514 ],\n",
       "       [0.79352564],\n",
       "       [0.80988413],\n",
       "       [0.8273237 ],\n",
       "       [0.84428835],\n",
       "       [0.8606035 ],\n",
       "       [0.8766857 ],\n",
       "       [0.8915809 ],\n",
       "       [0.9010588 ],\n",
       "       [0.9045243 ],\n",
       "       [0.9023142 ],\n",
       "       [0.89582175],\n",
       "       [0.8872819 ],\n",
       "       [0.8794739 ],\n",
       "       [0.8732128 ],\n",
       "       [0.8615799 ],\n",
       "       [0.84235376],\n",
       "       [0.8165019 ],\n",
       "       [0.7867924 ],\n",
       "       [0.7558991 ],\n",
       "       [0.72614634],\n",
       "       [0.69989145],\n",
       "       [0.6798954 ],\n",
       "       [0.6697536 ],\n",
       "       [0.6711755 ],\n",
       "       [0.68335885],\n",
       "       [0.70271933],\n",
       "       [0.72486603],\n",
       "       [0.74608713],\n",
       "       [0.764652  ],\n",
       "       [0.77912116],\n",
       "       [0.7891774 ],\n",
       "       [0.7957039 ],\n",
       "       [0.79900265],\n",
       "       [0.79856044],\n",
       "       [0.7947176 ],\n",
       "       [0.7894706 ],\n",
       "       [0.7859799 ],\n",
       "       [0.78590685],\n",
       "       [0.78947085],\n",
       "       [0.79630965],\n",
       "       [0.805758  ],\n",
       "       [0.81700027],\n",
       "       [0.82898027],\n",
       "       [0.83918613],\n",
       "       [0.846416  ],\n",
       "       [0.84810036],\n",
       "       [0.8413156 ],\n",
       "       [0.82670933],\n",
       "       [0.80649364],\n",
       "       [0.7832409 ],\n",
       "       [0.757874  ],\n",
       "       [0.7303563 ],\n",
       "       [0.70109165],\n",
       "       [0.671867  ],\n",
       "       [0.645032  ],\n",
       "       [0.62336516],\n",
       "       [0.60967976],\n",
       "       [0.60586643],\n",
       "       [0.61098593],\n",
       "       [0.6226    ],\n",
       "       [0.6390369 ],\n",
       "       [0.6586275 ],\n",
       "       [0.6796452 ],\n",
       "       [0.70062625],\n",
       "       [0.720346  ],\n",
       "       [0.7363228 ],\n",
       "       [0.74328643],\n",
       "       [0.7383662 ],\n",
       "       [0.72318685],\n",
       "       [0.70172894],\n",
       "       [0.67861986],\n",
       "       [0.6578542 ],\n",
       "       [0.64301646],\n",
       "       [0.6368537 ],\n",
       "       [0.6386577 ],\n",
       "       [0.6470126 ],\n",
       "       [0.65895426],\n",
       "       [0.67184806],\n",
       "       [0.6839899 ],\n",
       "       [0.69425803],\n",
       "       [0.70170444],\n",
       "       [0.7065246 ],\n",
       "       [0.7096085 ],\n",
       "       [0.7098568 ],\n",
       "       [0.7064442 ],\n",
       "       [0.7014277 ],\n",
       "       [0.69667953],\n",
       "       [0.6941139 ],\n",
       "       [0.6958295 ],\n",
       "       [0.7003422 ],\n",
       "       [0.7028122 ],\n",
       "       [0.7009348 ],\n",
       "       [0.6945504 ],\n",
       "       [0.6852783 ],\n",
       "       [0.678164  ],\n",
       "       [0.6771358 ],\n",
       "       [0.68507147],\n",
       "       [0.7022229 ],\n",
       "       [0.7273624 ],\n",
       "       [0.7578214 ],\n",
       "       [0.78961515],\n",
       "       [0.81680316],\n",
       "       [0.83564997],\n",
       "       [0.8467097 ],\n",
       "       [0.8525263 ],\n",
       "       [0.85680515],\n",
       "       [0.8603911 ],\n",
       "       [0.86056995],\n",
       "       [0.8556789 ],\n",
       "       [0.84615225],\n",
       "       [0.83351594],\n",
       "       [0.8194065 ],\n",
       "       [0.80492294],\n",
       "       [0.7914754 ],\n",
       "       [0.7802469 ],\n",
       "       [0.7727294 ],\n",
       "       [0.7700647 ],\n",
       "       [0.77306956],\n",
       "       [0.78047764],\n",
       "       [0.7888732 ],\n",
       "       [0.7938161 ],\n",
       "       [0.793269  ],\n",
       "       [0.7879294 ],\n",
       "       [0.7794778 ],\n",
       "       [0.7697976 ],\n",
       "       [0.7596638 ],\n",
       "       [0.7513964 ],\n",
       "       [0.7480104 ],\n",
       "       [0.7518935 ],\n",
       "       [0.76284647],\n",
       "       [0.7788776 ],\n",
       "       [0.796518  ],\n",
       "       [0.81112844],\n",
       "       [0.81602025],\n",
       "       [0.80793685],\n",
       "       [0.7883501 ],\n",
       "       [0.7609476 ],\n",
       "       [0.72969425],\n",
       "       [0.6980787 ],\n",
       "       [0.6696886 ],\n",
       "       [0.6468376 ],\n",
       "       [0.6311059 ],\n",
       "       [0.6221602 ],\n",
       "       [0.61994696],\n",
       "       [0.6249522 ],\n",
       "       [0.6348755 ],\n",
       "       [0.64664257],\n",
       "       [0.66017735],\n",
       "       [0.6754708 ],\n",
       "       [0.69118345],\n",
       "       [0.70414746],\n",
       "       [0.71240544],\n",
       "       [0.7160741 ],\n",
       "       [0.71585387],\n",
       "       [0.7127644 ],\n",
       "       [0.7087971 ],\n",
       "       [0.70677704],\n",
       "       [0.70796156],\n",
       "       [0.71398246],\n",
       "       [0.72497094],\n",
       "       [0.73975635],\n",
       "       [0.75592846],\n",
       "       [0.7717586 ],\n",
       "       [0.78625274],\n",
       "       [0.7977964 ],\n",
       "       [0.80542386],\n",
       "       [0.8089254 ],\n",
       "       [0.80808353],\n",
       "       [0.8032366 ],\n",
       "       [0.795109  ],\n",
       "       [0.7855294 ],\n",
       "       [0.77613556],\n",
       "       [0.76529807],\n",
       "       [0.7525367 ],\n",
       "       [0.7389668 ],\n",
       "       [0.72639704],\n",
       "       [0.7166703 ],\n",
       "       [0.7116673 ],\n",
       "       [0.7126236 ],\n",
       "       [0.7198618 ],\n",
       "       [0.73197556],\n",
       "       [0.74612784],\n",
       "       [0.75988793],\n",
       "       [0.7711452 ],\n",
       "       [0.7785257 ],\n",
       "       [0.7823097 ],\n",
       "       [0.7837913 ],\n",
       "       [0.78401446],\n",
       "       [0.7840884 ],\n",
       "       [0.78552246],\n",
       "       [0.78801614],\n",
       "       [0.78784686],\n",
       "       [0.7812269 ],\n",
       "       [0.7682308 ],\n",
       "       [0.75122094],\n",
       "       [0.7331766 ],\n",
       "       [0.71760345],\n",
       "       [0.70765007],\n",
       "       [0.7050681 ],\n",
       "       [0.7098176 ],\n",
       "       [0.7191057 ],\n",
       "       [0.7282735 ],\n",
       "       [0.7345675 ],\n",
       "       [0.73651487],\n",
       "       [0.7345225 ],\n",
       "       [0.72936887],\n",
       "       [0.7217538 ],\n",
       "       [0.7132188 ],\n",
       "       [0.70577085],\n",
       "       [0.7001881 ],\n",
       "       [0.6976582 ],\n",
       "       [0.6999516 ],\n",
       "       [0.70727706],\n",
       "       [0.71883357],\n",
       "       [0.7323104 ],\n",
       "       [0.7476125 ],\n",
       "       [0.76218855],\n",
       "       [0.776973  ],\n",
       "       [0.7928293 ],\n",
       "       [0.8105074 ],\n",
       "       [0.830369  ],\n",
       "       [0.8491509 ],\n",
       "       [0.8633949 ],\n",
       "       [0.86811584],\n",
       "       [0.8612491 ],\n",
       "       [0.84418577],\n",
       "       [0.8209938 ],\n",
       "       [0.79604834],\n",
       "       [0.77213144],\n",
       "       [0.751193  ],\n",
       "       [0.7352967 ],\n",
       "       [0.7267873 ],\n",
       "       [0.7253456 ],\n",
       "       [0.7292516 ],\n",
       "       [0.7361162 ],\n",
       "       [0.7446885 ],\n",
       "       [0.7531632 ],\n",
       "       [0.76070595],\n",
       "       [0.7668849 ],\n",
       "       [0.77111936],\n",
       "       [0.77332884],\n",
       "       [0.7736023 ],\n",
       "       [0.77199936],\n",
       "       [0.7671419 ],\n",
       "       [0.7595898 ],\n",
       "       [0.75127375],\n",
       "       [0.74568295],\n",
       "       [0.7446368 ],\n",
       "       [0.7483597 ],\n",
       "       [0.7565999 ],\n",
       "       [0.76998186],\n",
       "       [0.78851926],\n",
       "       [0.8092756 ],\n",
       "       [0.8278998 ],\n",
       "       [0.8410106 ],\n",
       "       [0.8464846 ],\n",
       "       [0.84375453],\n",
       "       [0.83144087],\n",
       "       [0.8109346 ],\n",
       "       [0.78517604],\n",
       "       [0.7568425 ],\n",
       "       [0.72915035],\n",
       "       [0.705449  ],\n",
       "       [0.68846536],\n",
       "       [0.67971516],\n",
       "       [0.67930925],\n",
       "       [0.6855906 ],\n",
       "       [0.6953147 ],\n",
       "       [0.70531416],\n",
       "       [0.71352446],\n",
       "       [0.7202324 ],\n",
       "       [0.72593224],\n",
       "       [0.72907805],\n",
       "       [0.7288681 ],\n",
       "       [0.72479284],\n",
       "       [0.7165703 ],\n",
       "       [0.70285153],\n",
       "       [0.68361294],\n",
       "       [0.6606349 ],\n",
       "       [0.6355292 ],\n",
       "       [0.6100006 ],\n",
       "       [0.5856657 ],\n",
       "       [0.5642395 ],\n",
       "       [0.54689336],\n",
       "       [0.53345746],\n",
       "       [0.5232262 ],\n",
       "       [0.5160472 ],\n",
       "       [0.5119503 ],\n",
       "       [0.51026136],\n",
       "       [0.5101057 ],\n",
       "       [0.5096686 ],\n",
       "       [0.5074849 ],\n",
       "       [0.50306684],\n",
       "       [0.49674588],\n",
       "       [0.49024558],\n",
       "       [0.4854973 ],\n",
       "       [0.482504  ],\n",
       "       [0.48183346],\n",
       "       [0.48428893],\n",
       "       [0.49045235],\n",
       "       [0.50036484],\n",
       "       [0.513391  ],\n",
       "       [0.52788126],\n",
       "       [0.542353  ],\n",
       "       [0.55505   ],\n",
       "       [0.5654277 ],\n",
       "       [0.5745198 ],\n",
       "       [0.58150923]], dtype=float32)"
      ]
     },
     "execution_count": 44,
     "metadata": {},
     "output_type": "execute_result"
    }
   ],
   "source": [
    "y_pred"
   ]
  },
  {
   "cell_type": "code",
   "execution_count": 45,
   "id": "QMFgAgL5N6HX",
   "metadata": {
    "colab": {
     "base_uri": "https://localhost:8080/"
    },
    "id": "QMFgAgL5N6HX",
    "outputId": "ea7365cc-518f-4580-d114-1804855d66a4"
   },
   "outputs": [
    {
     "data": {
      "text/plain": [
       "array([0.00260756])"
      ]
     },
     "execution_count": 45,
     "metadata": {},
     "output_type": "execute_result"
    }
   ],
   "source": [
    "scaler.scale_"
   ]
  },
  {
   "cell_type": "code",
   "execution_count": 46,
   "id": "tPcp9BKLN-Y8",
   "metadata": {
    "id": "tPcp9BKLN-Y8"
   },
   "outputs": [],
   "source": [
    "scale_factor = 1/0.00041967\n",
    "y_pred = y_pred * scale_factor\n",
    "y_test = y_test * scale_factor"
   ]
  },
  {
   "cell_type": "code",
   "execution_count": 48,
   "id": "phumyMZUOPp_",
   "metadata": {
    "colab": {
     "base_uri": "https://localhost:8080/",
     "height": 542
    },
    "id": "phumyMZUOPp_",
    "outputId": "eba0f77b-fe47-431e-cbf8-49a103e127ab"
   },
   "outputs": [
    {
     "data": {
      "image/png": "[encoded data removed]",
      "text/plain": [
       "<Figure size 1200x600 with 1 Axes>"
      ]
     },
     "metadata": {},
     "output_type": "display_data"
    }
   ],
   "source": [
    "plt.figure(figsize = (12,6))\n",
    "plt.plot(y_test, 'b', label = \"Original Price\")\n",
    "plt.plot(y_pred, 'r', label = \"Predicted Price\")\n",
    "plt.xlabel('Time')\n",
    "plt.ylabel('Price')\n",
    "plt.legend()\n",
    "plt.grid(True)\n",
    "plt.show()"
   ]
  },
  {
   "cell_type": "markdown",
   "id": "m54ljCJrpShP",
   "metadata": {
    "id": "m54ljCJrpShP"
   },
   "source": [
    "# Model evaluation"
   ]
  },
  {
   "cell_type": "markdown",
   "id": "BdnuOyYQRKRP",
   "metadata": {
    "id": "BdnuOyYQRKRP"
   },
   "source": [
    "Calculation of mean absolute error"
   ]
  },
  {
   "cell_type": "code",
   "execution_count": 49,
   "id": "Yx6JWOKcX3Yo",
   "metadata": {
    "colab": {
     "base_uri": "https://localhost:8080/"
    },
    "id": "Yx6JWOKcX3Yo",
    "outputId": "74caad7d-81e9-4866-c771-3e6beccb39d8"
   },
   "outputs": [
    {
     "name": "stdout",
     "output_type": "stream",
     "text": [
      "Mean absolute error on test set: 10.65%\n"
     ]
    }
   ],
   "source": [
    "from sklearn.metrics import mean_absolute_error\n",
    "\n",
    "mae = mean_absolute_error(y_test, y_pred)\n",
    "mae_percentage = (mae / np.mean(y_test)) * 100\n",
    "print(\"Mean absolute error on test set: {:.2f}%\".format(mae_percentage))"
   ]
  },
  {
   "cell_type": "markdown",
   "id": "M8XnY8cuQIc2",
   "metadata": {
    "id": "M8XnY8cuQIc2"
   },
   "source": [
    "Calculation of R2 score"
   ]
  },
  {
   "cell_type": "code",
   "execution_count": 50,
   "id": "GAAyLdoMNTwZ",
   "metadata": {
    "colab": {
     "base_uri": "https://localhost:8080/"
    },
    "id": "GAAyLdoMNTwZ",
    "outputId": "58c4c588-24d4-49bf-83ac-5a615a631c2e"
   },
   "outputs": [
    {
     "name": "stdout",
     "output_type": "stream",
     "text": [
      "R2 score: 0.8282162051713395\n"
     ]
    }
   ],
   "source": [
    "from sklearn.metrics import r2_score\n",
    "\n",
    "# Actual values\n",
    "actual = y_test\n",
    "\n",
    "# Predicted values\n",
    "predicted = y_pred\n",
    "\n",
    "# Calculate the R2 score\n",
    "r2 = r2_score(actual, predicted)\n",
    "\n",
    "print(\"R2 score:\", r2)"
   ]
  },
  {
   "cell_type": "code",
   "execution_count": 51,
   "id": "vQGgW50tNtMf",
   "metadata": {
    "colab": {
     "base_uri": "https://localhost:8080/",
     "height": 472
    },
    "id": "vQGgW50tNtMf",
    "outputId": "94767ec4-b582-409b-ea5d-2d5659997e8c"
   },
   "outputs": [
    {
     "data": {
      "image/png": "[encoded data removed]",
      "text/plain": [
       "<Figure size 640x480 with 1 Axes>"
      ]
     },
     "metadata": {},
     "output_type": "display_data"
    }
   ],
   "source": [
    "# Plotting the R2 score\n",
    "fig, ax = plt.subplots()\n",
    "ax.barh(0, r2, color='skyblue')\n",
    "ax.set_xlim([-1, 1])\n",
    "ax.set_yticks([])\n",
    "ax.set_xlabel('R2 Score')\n",
    "ax.set_title('R2 Score')\n",
    "\n",
    "# Adding the R2 score value on the bar\n",
    "ax.text(r2, 0, f'{r2:.2f}', va='center', color='black')\n",
    "\n",
    "plt.show()"
   ]
  },
  {
   "cell_type": "code",
   "execution_count": 52,
   "id": "Q8RHQ80hPfi4",
   "metadata": {
    "colab": {
     "base_uri": "https://localhost:8080/",
     "height": 472
    },
    "id": "Q8RHQ80hPfi4",
    "outputId": "a1b81f5b-e56b-4f29-886c-e53f7e6f2bcb"
   },
   "outputs": [
    {
     "data": {
      "image/png": "[encoded data removed]",
      "text/plain": [
       "<Figure size 640x480 with 1 Axes>"
      ]
     },
     "metadata": {},
     "output_type": "display_data"
    }
   ],
   "source": [
    "plt.scatter(actual, predicted)\n",
    "plt.plot([min(actual), max(actual)], [min(predicted), max(predicted)], 'r--')\n",
    "plt.xlabel('Actual Values')\n",
    "plt.ylabel('Predicted Values')\n",
    "plt.title(f'R2 Score: {r2:.2f}')\n",
    "plt.show()"
   ]
  },
  {
   "cell_type": "code",
   "execution_count": null,
   "id": "dd4a7da0-f7b4-4ecf-a9c4-45e6eef80f70",
   "metadata": {},
   "outputs": [],
   "source": []
  },
  {
   "cell_type": "code",
   "execution_count": null,
   "id": "fa4f293f-c849-4d6e-9d1b-2c94aeaec13b",
   "metadata": {},
   "outputs": [],
   "source": []
  },
  {
   "cell_type": "code",
   "execution_count": null,
   "id": "388a3d13-428b-4a4b-9ab2-af4b0bdbc681",
   "metadata": {},
   "outputs": [],
   "source": []
  },
  {
   "cell_type": "code",
   "execution_count": null,
   "id": "40475e69-82a5-4ebe-a9ee-4c5ad8dd32f9",
   "metadata": {},
   "outputs": [],
   "source": []
  }
 ],
 "metadata": {
  "accelerator": "GPU",
  "colab": {
   "include_colab_link": true,
   "provenance": []
  },
  "gpuClass": "standard",
  "kernelspec": {
   "display_name": "Python 3 (ipykernel)",
   "language": "python",
   "name": "python3"
  },
  "language_info": {
   "codemirror_mode": {
    "name": "ipython",
    "version": 3
   },
   "file_extension": ".py",
   "mimetype": "text/x-python",
   "name": "python",
   "nbconvert_exporter": "python",
   "pygments_lexer": "ipython3",
   "version": "3.11.7"
  }
 },
 "nbformat": 4,
 "nbformat_minor": 5
}
